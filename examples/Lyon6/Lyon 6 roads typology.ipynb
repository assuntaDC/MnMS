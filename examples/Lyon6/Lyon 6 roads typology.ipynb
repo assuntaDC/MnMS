{
 "cells": [
  {
   "cell_type": "markdown",
   "id": "582d1909",
   "metadata": {},
   "source": [
    "### Imports"
   ]
  },
  {
   "cell_type": "code",
   "execution_count": null,
   "id": "6c55056f",
   "metadata": {},
   "outputs": [],
   "source": [
    "import matplotlib.pyplot as plt\n",
    "import contextily as cx\n",
    "import geopandas as gpd\n",
    "import os\n",
    "import copy\n",
    "import json\n",
    "import pandas as pd\n",
    "import numpy as np\n",
    "import random\n",
    "from matplotlib.lines import Line2D\n",
    "from matplotlib import rcParams\n",
    "\n",
    "from mnms.tools.render import draw_roads, draw_links_load\n",
    "from mnms.io.graph import load_graph\n",
    "from mnms.time import Time, Dt"
   ]
  },
  {
   "cell_type": "markdown",
   "id": "5afedb85",
   "metadata": {},
   "source": [
    "### Global parameters"
   ]
  },
  {
   "cell_type": "code",
   "execution_count": null,
   "id": "41e3aa62",
   "metadata": {},
   "outputs": [],
   "source": [
    "rcParams['font.size'] = 16"
   ]
  },
  {
   "cell_type": "markdown",
   "id": "567129b5",
   "metadata": {},
   "source": [
    "# Roads typology visualization"
   ]
  },
  {
   "cell_type": "markdown",
   "id": "22954a02",
   "metadata": {},
   "source": [
    "### Parameters"
   ]
  },
  {
   "cell_type": "code",
   "execution_count": null,
   "id": "61e52757",
   "metadata": {},
   "outputs": [],
   "source": [
    "current_dir = os.getcwd()\n",
    "rt_param_file_path = current_dir + '/param_roadstypo.json'\n",
    "with open(rt_param_file_path, 'r') as rt_param_file:\n",
    "    rt_param_json = json.load(rt_param_file)\n",
    "rt_indir = rt_param_json['INPUT']['indir']\n",
    "mlgraph_file = rt_indir + rt_param_json['INPUT']['network_file']\n",
    "roads_typo = rt_param_json['GRAPH']['roads_typo']\n",
    "primary_sections = roads_typo['primary'] # NB: here roads sections and mlgraph links have the same names\n",
    "secondary_sections = roads_typo['secondary']\n",
    "\n",
    "#lyon_iris_shp = current_dir + '/INPUTS/CONTOURS-IRIS.shp'\n",
    "#iris_shp = gpd.read_file(lyon_iris_shp)\n",
    "#lyon6_shp = iris_shp[iris_shp['NOM_COM'] == 'Lyon 6e Arrondissement']\n",
    "#duquesne_we_garibaldi_ns = ['T_744067565_FRef', 'T_58229809_FRef', 'T_58229765_FRef', 'T_58229704_FRef', 'T_58229665_FRef', 'T_58229620_FRef', 'T_58229589_FRef', 'T_58229552_FRef', 'T_58229522_FRef', 'T_58229923_FRef', 'T_58230150_FRef', 'T_58230298_FRef', 'T_61618086_FRef', 'T_58230633_FRef', 'T_58230753_FRef', 'T_747119237_FRef', 'T_58231166_FRef', 'T_58231291_FRef', 'T_58231482_FRef', 'T_58231638_FRef', 'T_58231807_FRef', 'T_58231996_FRef', 'T_1035388886_FRef', 'T_1035388885_FRef', 'T_778807201_FRef', 'T_58232446_FRef']\n",
    "#bvbelges_sn_duquesne_ew = ['T_744064732_FRef', 'T_744064733_FRef', 'T_740854577_FRef', 'T_740854572_FRef', 'T_740854573_FRef', 'T_58231869_FRef', 'T_58231678_FRef', 'T_58231544_FRef', 'T_62193589_FRef', 'T_62193588_FRef', 'T_704007182_FRef', 'T_58230917_FRef', 'T_58230834_FRef', 'T_58230761_FRef', 'T_58230560_FRef', 'T_58230295_FRef', 'T_58230102_FRef', 'T_58229991_FRef', 'T_58229906_FRef', 'T_58229742_FRef', 'T_58229593_FRef', 'T_744067569_FRef', 'T_744067568_FRef', 'T_58229522_toRef', 'T_58229552_toRef', 'T_58229589_toRef', 'T_58229620_toRef', 'T_58229665_toRef', 'T_58229704_toRef', 'T_58229765_toRef', 'T_58229809_toRef', 'T_744067565_toRef']"
   ]
  },
  {
   "cell_type": "markdown",
   "id": "3931d4ce",
   "metadata": {},
   "source": [
    "### Load and plot primary and secondary sections"
   ]
  },
  {
   "cell_type": "code",
   "execution_count": null,
   "id": "fceb45d4",
   "metadata": {
    "scrolled": true
   },
   "outputs": [],
   "source": [
    "mlgraph = load_graph(mlgraph_file)\n",
    "\n",
    "roads_secondary = copy.deepcopy(mlgraph.roads)\n",
    "for lid in primary_sections:\n",
    "    roads_secondary.delete_section(lid)\n",
    "    \n",
    "roads_primary = copy.deepcopy(mlgraph.roads)\n",
    "for lid in mlgraph.roads.sections.keys():\n",
    "    if lid not in primary_sections:\n",
    "        roads_primary.delete_section(lid)"
   ]
  },
  {
   "cell_type": "code",
   "execution_count": null,
   "id": "8460b4a2",
   "metadata": {},
   "outputs": [],
   "source": [
    "fig, ax = plt.subplots(figsize=(10, 10))\n",
    "draw_roads(ax, roads_secondary, color='grey', linkwidth=2, nodesize=0, draw_stops=False, node_label=False, label_size=1)\n",
    "draw_roads(ax, roads_primary, color='red', linkwidth=3, nodesize=0, draw_stops=False, node_label=False, label_size=1)\n",
    "draw_roads(ax, mlgraph.roads, color='grey', linkwidth=0, nodesize=3, draw_stops=False, node_label=False, label_size=1)\n",
    "#cx.add_basemap(ax, crs=lyon6_shp.crs, source=cx.providers.OpenStreetMap.France, alpha=0.4)\n",
    "plt.xticks([])\n",
    "plt.yticks([])\n",
    "legend = [Line2D([0, 1], [0, 1], color='red', linewidth=2, label='Primary links'),\n",
    "         Line2D([0, 1], [0, 1], color='grey', linewidth=2, label='Secondary links')]\n",
    "plt.legend(handles=legend)\n",
    "#plt.savefig('lyon6_roads_typo.pdf', bbox_inches='tight')\n",
    "plt.show()"
   ]
  },
  {
   "cell_type": "markdown",
   "id": "20b17863",
   "metadata": {},
   "source": [
    "### Create demand scenario to show effect of roads typology"
   ]
  },
  {
   "cell_type": "code",
   "execution_count": null,
   "id": "5339bfb5",
   "metadata": {},
   "outputs": [],
   "source": [
    "# Gather south-east and north-west nodes\n",
    "central_node = [843875, 6520375]\n",
    "se_nodes = [nid for nid,n in mlgraph.graph.nodes.items() if n.position[0] > central_node[0] and n.position[1] < central_node[1]]\n",
    "nw_nodes = [nid for nid,n in mlgraph.graph.nodes.items() if n.position[0] < central_node[0] and n.position[1] > central_node[1]]\n",
    "\n",
    "# Display them\n",
    "fig, ax = plt.subplots(figsize=(10, 10))\n",
    "draw_roads(ax, mlgraph.roads, color='grey', linkwidth=1, nodesize=0, draw_stops=False, node_label=False, label_size=1)\n",
    "\n",
    "# South east nodes\n",
    "x, y = zip(*[mlgraph.graph.nodes[n].position for n in se_nodes])\n",
    "ax.plot(x, y, 'o', markerfacecolor='white', markeredgecolor='red', fillstyle='full', markersize=2)\n",
    "# North west nodes\n",
    "x, y = zip(*[mlgraph.graph.nodes[n].position for n in nw_nodes])\n",
    "ax.plot(x, y, 'o', markerfacecolor='white', markeredgecolor='blue', fillstyle='full', markersize=2)\n",
    "plt.xticks([])\n",
    "plt.yticks([])\n",
    "plt.show()"
   ]
  },
  {
   "cell_type": "code",
   "execution_count": null,
   "id": "b6d850a0",
   "metadata": {
    "scrolled": false
   },
   "outputs": [],
   "source": [
    "# Parameters\n",
    "new_demand_file = rt_indir + '/demand_southeast_northwest.csv'\n",
    "dep_rate = 5.5 # dep/s\n",
    "tstart = Time('00:00:00')\n",
    "tend = Time('00:30:00')\n",
    "patterns = ['se->nw', 'nw->se']\n",
    "\n",
    "# Users creation\n",
    "t = 0\n",
    "uid = 0\n",
    "travelers = []\n",
    "while True:\n",
    "    t += random.expovariate(dep_rate)\n",
    "    if tstart.add_time(Dt(seconds=t)) >= tend:\n",
    "        break\n",
    "    while True:\n",
    "        # Choose a random pattern\n",
    "        pattern = np.random.choice(patterns)\n",
    "        # Choose a random OD for this pattern \n",
    "        if pattern == 'nw->se':\n",
    "            on = np.random.choice(nw_nodes)\n",
    "            dn = np.random.choice(se_nodes)\n",
    "        elif pattern == 'se->nw':\n",
    "            on = np.random.choice(se_nodes)\n",
    "            dn = np.random.choice(nw_nodes)\n",
    "        if on != dn:\n",
    "            travelers.append(['U'+str(uid), \n",
    "                              tstart.add_time(Dt(seconds=round(t,0))), \n",
    "                              str(mlgraph.graph.nodes[on].position[0])+' '+str(mlgraph.graph.nodes[on].position[1]),\n",
    "                              str(mlgraph.graph.nodes[dn].position[0])+' '+str(mlgraph.graph.nodes[dn].position[1])])\n",
    "            uid += 1\n",
    "            break\n",
    "# Export to csv\n",
    "df = pd.DataFrame(travelers, columns=['ID', 'DEPARTURE', 'ORIGIN', 'DESTINATION'])\n",
    "df.to_csv(new_demand_file, sep=';', index=False)"
   ]
  },
  {
   "cell_type": "markdown",
   "id": "3418ace8",
   "metadata": {},
   "source": [
    "NB: If you want to use this new demand set for comparison, replace the demand file name in the parameters json files and launch the simulations before launching the rest of the cells."
   ]
  },
  {
   "cell_type": "markdown",
   "id": "033c89ee",
   "metadata": {},
   "source": [
    "# Comparison with and without roads typology"
   ]
  },
  {
   "cell_type": "markdown",
   "id": "69032de1",
   "metadata": {},
   "source": [
    "### Parameters"
   ]
  },
  {
   "cell_type": "code",
   "execution_count": null,
   "id": "2099ff2d",
   "metadata": {},
   "outputs": [],
   "source": [
    "rt_outdir = rt_param_json['OUTPUT']['output_dir']\n",
    "rt_user_file = rt_outdir + rt_param_json['OUTPUT']['user_file']\n",
    "\n",
    "nrt_param_file_path = current_dir + '/param.json'\n",
    "with open(nrt_param_file_path, 'r') as nrt_param_file:\n",
    "    nrt_param_json = json.load(nrt_param_file)\n",
    "nrt_outdir = nrt_param_json['OUTPUT']['output_dir']\n",
    "nrt_user_file = nrt_outdir + nrt_param_json['OUTPUT']['user_file']"
   ]
  },
  {
   "cell_type": "markdown",
   "id": "e2c4d3db",
   "metadata": {},
   "source": [
    "### Compare links load"
   ]
  },
  {
   "cell_type": "code",
   "execution_count": null,
   "id": "a73ef15b",
   "metadata": {},
   "outputs": [],
   "source": [
    "# Get users in road typo scenario\n",
    "with open(rt_user_file) as f:\n",
    "    dfrt = pd.read_csv(f, sep=';')\n",
    "rt_users_ids = set(dfrt['ID'].tolist())\n",
    "\n",
    "# Get users in non road typo scenario\n",
    "with open(nrt_user_file) as f:\n",
    "    dfnrt = pd.read_csv(f, sep=';')\n",
    "nrt_users_ids = set(dfnrt['ID'].tolist())"
   ]
  },
  {
   "cell_type": "code",
   "execution_count": null,
   "id": "143a0f9d",
   "metadata": {},
   "outputs": [],
   "source": [
    "# Compute links load in road typo scenario\n",
    "rt_links_load = {lid: 0 for lid, link in mlgraph.graph.links.items() if 'ORIGIN' not in link.upstream and 'DESTINATION' not in link.downstream}\n",
    "\n",
    "for uid in rt_users_ids:\n",
    "    dfrtu = dfrt[dfrt['ID'] == uid]\n",
    "    linksu = [l for i,l in enumerate(dfrtu['LINK'].tolist()) if i == 0 or (i > 0 and l != dfrtu['LINK'].tolist()[i-1])]\n",
    "    linksu = [l for l in linksu if str(l) != 'nan']\n",
    "    for link in linksu:\n",
    "        unode, dnode = link.split(' ')\n",
    "        try:\n",
    "            link_obj = mlgraph.graph.nodes[unode].adj[dnode]\n",
    "            lid = link_obj.id\n",
    "            rt_links_load[lid] += 1\n",
    "        except:\n",
    "            pass\n",
    "\n",
    "## Compute links load in non road typo scenario\n",
    "nrt_links_load = {lid: 0 for lid, link in mlgraph.graph.links.items() if 'ORIGIN' not in link.upstream and 'DESTINATION' not in link.downstream}\n",
    "\n",
    "for uid in nrt_users_ids:\n",
    "    dfnrtu = dfnrt[dfnrt['ID'] == uid]\n",
    "    linksu = [l for i,l in enumerate(dfnrtu['LINK'].tolist()) if i == 0 or (i > 0 and l != dfnrtu['LINK'].tolist()[i-1])]\n",
    "    linksu = [l for l in linksu if str(l) != 'nan']\n",
    "    for link in linksu:\n",
    "        unode, dnode = link.split(' ')\n",
    "        try:\n",
    "            link_obj = mlgraph.graph.nodes[unode].adj[dnode]\n",
    "            lid = link_obj.id\n",
    "            nrt_links_load[lid] += 1\n",
    "        except:\n",
    "            pass"
   ]
  },
  {
   "cell_type": "code",
   "execution_count": null,
   "id": "841ab79d",
   "metadata": {},
   "outputs": [],
   "source": [
    "max_load = (max(max(rt_links_load.values()), max(nrt_links_load.values())))"
   ]
  },
  {
   "cell_type": "code",
   "execution_count": null,
   "id": "e85f5ed8",
   "metadata": {
    "scrolled": false
   },
   "outputs": [],
   "source": [
    "fig, (ax1, ax2) = plt.subplots(1, 2, figsize=(10, 5))\n",
    "draw_links_load(ax1, mlgraph.graph, rt_links_load, 10, lmin=0, lmax=max_load)\n",
    "draw_links_load(ax2, mlgraph.graph, nrt_links_load, 10, lmin=0, lmax=max_load)\n",
    "ax1.set_xticks([])\n",
    "ax2.set_xticks([])\n",
    "ax1.set_yticks([])\n",
    "ax2.set_yticks([])\n",
    "ax1.set_title('With weights on road typology')\n",
    "ax2.set_title('Without road typology')\n",
    "im = plt.scatter([], [], cmap=\"cool\", c=[], vmin=0, vmax=max_load)\n",
    "fig.subplots_adjust(bottom=0.25, wspace=0.05)\n",
    "cbar_ax = fig.add_axes([0.17, 0.15, 0.7, 0.05])\n",
    "cbar = fig.colorbar(im, cax=cbar_ax, orientation='horizontal')\n",
    "cbar.ax.set_xlabel('Number of visits')\n",
    "plt.show()\n",
    "#plt.savefig('lyon6_comparison_road_typo.pdf', bbox_inches='tight')"
   ]
  },
  {
   "cell_type": "code",
   "execution_count": null,
   "id": "6ad6bb89",
   "metadata": {},
   "outputs": [],
   "source": []
  }
 ],
 "metadata": {
  "kernelspec": {
   "display_name": "Python 3 (ipykernel)",
   "language": "python",
   "name": "python3"
  },
  "language_info": {
   "codemirror_mode": {
    "name": "ipython",
    "version": 3
   },
   "file_extension": ".py",
   "mimetype": "text/x-python",
   "name": "python",
   "nbconvert_exporter": "python",
   "pygments_lexer": "ipython3",
   "version": "3.10.13"
  }
 },
 "nbformat": 4,
 "nbformat_minor": 5
}
