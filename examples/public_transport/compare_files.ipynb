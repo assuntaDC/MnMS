{
 "cells": [
  {
   "cell_type": "code",
   "execution_count": 15,
   "id": "aa7fbd66-7c08-446c-ba60-cd628cd1f227",
   "metadata": {},
   "outputs": [
    {
     "name": "stdout",
     "output_type": "stream",
     "text": [
      "The files have different shapes.\n",
      "The files are different.\n"
     ]
    }
   ],
   "source": [
    "import pandas as pd\n",
    "\n",
    "def compare_csv_files(file1, file2):\n",
    "    \"\"\"\n",
    "    Compare two CSV files line by line and return False if they differ, True otherwise.\n",
    "    \n",
    "    Parameters:\n",
    "        file1 (str): Path to the first CSV file.\n",
    "        file2 (str): Path to the second CSV file.\n",
    "    \n",
    "    Returns:\n",
    "        bool: True if the files are identical, False otherwise.\n",
    "    \"\"\"\n",
    "    try:\n",
    "        # Read both CSV files\n",
    "        df1 = pd.read_csv(file1)\n",
    "        df2 = pd.read_csv(file2)\n",
    "\n",
    "        # Check if both dataframes have the same shape\n",
    "        if df1.shape != df2.shape:\n",
    "            print(\"The files have different shapes.\")\n",
    "            return False\n",
    "\n",
    "        # Check for differences\n",
    "        comparison = df1.equals(df2)\n",
    "        if not comparison:\n",
    "            print(\"The files differ in content.\")\n",
    "        \n",
    "        return comparison\n",
    "    \n",
    "    except Exception as e:\n",
    "        print(f\"An error occurred: {e}\")\n",
    "        return False\n",
    "\n",
    "# Example usage\n",
    "file1 = \"SIMULATION_TEST_ON_BEHAVIOR/OUTPUTS/congestion_cost.csv\"\n",
    "file2 = \"SIMULATION_BASELINE_BEHAVIOR/congestion_file.csv\"\n",
    "\n",
    "result = compare_csv_files(file1, file2)\n",
    "if result:\n",
    "    print(\"The files are identical.\")\n",
    "else:\n",
    "    print(\"The files are different.\")\n"
   ]
  },
  {
   "cell_type": "code",
   "execution_count": 16,
   "id": "c2229433-dc9c-4a2a-97e4-055fe730c84f",
   "metadata": {},
   "outputs": [
    {
     "name": "stdout",
     "output_type": "stream",
     "text": [
      "The files have different shapes.\n",
      "The files are different.\n"
     ]
    }
   ],
   "source": [
    "file1 = \"SIMULATION_TEST_ON_BEHAVIOR/OUTPUTS/congestion_cost.csv\"\n",
    "file2 = \"SIMULATION_BASELINE_BEHAVIOR_noPathMod/congestion_file.csv\"\n",
    "\n",
    "result = compare_csv_files(file1, file2)\n",
    "if result:\n",
    "    print(\"The files are identical.\")\n",
    "else:\n",
    "    print(\"The files are different.\")"
   ]
  },
  {
   "cell_type": "code",
   "execution_count": 17,
   "id": "35b6dafb-5144-42b3-af3c-bd08bc068067",
   "metadata": {},
   "outputs": [
    {
     "name": "stdout",
     "output_type": "stream",
     "text": [
      "The files are identical.\n"
     ]
    }
   ],
   "source": [
    "file1 = \"SIMULATION_TEST_ON_BEHAVIOR/OUTPUTS/congestion_cost.csv\"\n",
    "file2 = \"SIMULATION_BASELINE_COST/congestion_file.csv\"\n",
    "\n",
    "result = compare_csv_files(file1, file2)\n",
    "if result:\n",
    "    print(\"The files are identical.\")\n",
    "else:\n",
    "    print(\"The files are different.\")"
   ]
  },
  {
   "cell_type": "code",
   "execution_count": 18,
   "id": "bc3c6ea6-800f-4b13-8ecb-ea1990e6c90f",
   "metadata": {},
   "outputs": [
    {
     "name": "stdout",
     "output_type": "stream",
     "text": [
      "The files have different shapes.\n",
      "The files are different.\n"
     ]
    }
   ],
   "source": [
    "file1 = \"SIMULATION_TEST_ON_BEHAVIOR/OUTPUTS/congestion_cost.csv\"\n",
    "file2 = \"SIMULATION_BASELINE_COST_2/congestion_file.csv\"\n",
    "\n",
    "result = compare_csv_files(file1, file2)\n",
    "if result:\n",
    "    print(\"The files are identical.\")\n",
    "else:\n",
    "    print(\"The files are different.\")"
   ]
  },
  {
   "cell_type": "code",
   "execution_count": null,
   "id": "707752d0-2fd1-4579-aa5a-a21a7df5275a",
   "metadata": {},
   "outputs": [],
   "source": []
  }
 ],
 "metadata": {
  "kernelspec": {
   "display_name": "Python [conda env:mnms2]",
   "language": "python",
   "name": "conda-env-mnms2-py"
  },
  "language_info": {
   "codemirror_mode": {
    "name": "ipython",
    "version": 3
   },
   "file_extension": ".py",
   "mimetype": "text/x-python",
   "name": "python",
   "nbconvert_exporter": "python",
   "pygments_lexer": "ipython3",
   "version": "3.10.16"
  }
 },
 "nbformat": 4,
 "nbformat_minor": 5
}
