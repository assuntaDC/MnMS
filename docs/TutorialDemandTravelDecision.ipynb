{
 "cells": [
  {
   "cell_type": "markdown",
   "id": "578be66f",
   "metadata": {},
   "source": [
    "# Demand and Travel Decision\n",
    "\n",
    "In this tutorial we introduce the `demand` and `travel_decision` module of `mnms`. The management of the demand is made through the `DemandManager` classes. We cover two of them:\n",
    "\n",
    "* `BaseDemandManager`\n",
    "* `CSVDemandManager`\n",
    " \n",
    "And the choice of the `User` path is made with the `travel_decision` module. We introduce two classes for that:\n",
    "\n",
    "* `SimpleDecisionModel`\n",
    "* `LogitDecisionModel`"
   ]
  },
  {
   "cell_type": "markdown",
   "id": "fb4d1b1e",
   "metadata": {},
   "source": [
    "## Generate a simple graph\n",
    "\n",
    "We use a simple grid `flow_graph` generated with the function `create_grid_graph`, then we add one mobility service that cover all the `flow_graph`."
   ]
  },
  {
   "cell_type": "code",
   "execution_count": null,
   "id": "72bc2d23",
   "metadata": {},
   "outputs": [],
   "source": [
    "import matplotlib.pyplot as plt\n",
    "\n",
    "from mnms.generation.mlgraph import generate_manhattan_passenger_car\n",
    "from mnms.tools.render import draw_roads\n",
    "\n",
    "mlgraph = generate_manhattan_passenger_car(4, 10)\n",
    "\n",
    "fig, ax = plt.subplots(figsize=(16, 9))\n",
    "draw_roads(ax, mlgraph.roads, linkwidth=2, nodesize=5)"
   ]
  },
  {
   "cell_type": "markdown",
   "id": "aad1a4a4",
   "metadata": {},
   "source": [
    "## Demand"
   ]
  },
  {
   "cell_type": "markdown",
   "id": "f41bcb00",
   "metadata": {},
   "source": [
    "### Random demand\n",
    "\n",
    "In the following we create a random demand, the function `create_random_demand` return a `BaseDemandManager`."
   ]
  },
  {
   "cell_type": "code",
   "execution_count": null,
   "id": "01da5bcd",
   "metadata": {},
   "outputs": [],
   "source": [
    "from mnms.generation.demand import generate_random_demand\n",
    "\n",
    "demand = generate_random_demand(mlgraph,\n",
    "                                10,\n",
    "                                tstart=\"10:00:00\", \n",
    "                                tend=\"12:00:00\", \n",
    "                                cost_path='length', \n",
    "                                min_cost=0.4)\n",
    "demand.show_users()"
   ]
  },
  {
   "cell_type": "markdown",
   "id": "e6f9454d",
   "metadata": {},
   "source": [
    "### CSV Predefined demand\n",
    "\n",
    "We can use a predefined demand, the `CSVDemandManager` can read a sorted demand by time from a CSV file.\n",
    "\n",
    "There is an example of demand in CSV format:"
   ]
  },
  {
   "cell_type": "code",
   "execution_count": null,
   "id": "1ea8c74b",
   "metadata": {},
   "outputs": [],
   "source": [
    "import pandas as pd\n",
    "\n",
    "pd.read_csv('data/simple_demand.csv', sep=';')"
   ]
  },
  {
   "cell_type": "markdown",
   "id": "a124a7e1",
   "metadata": {},
   "source": [
    "And how to load it in `mnms`:"
   ]
  },
  {
   "cell_type": "code",
   "execution_count": null,
   "id": "281fd328",
   "metadata": {},
   "outputs": [],
   "source": [
    "from mnms.demand import CSVDemandManager\n",
    "from mnms.time import Time\n",
    "\n",
    "demand = CSVDemandManager('data/simple_demand.csv')\n",
    "\n",
    "users = demand.get_next_departures(Time(\"07:00:00\"), Time(\"07:30:00\"))\n",
    "users"
   ]
  },
  {
   "cell_type": "markdown",
   "id": "133e0bb5",
   "metadata": {},
   "source": [
    "## Travel Decision\n",
    "\n",
    "The `travel_decision` module is used to choose the path of a a `User`, from a pair origin/destination it computes a path that will be later use in a `FlowMotor`."
   ]
  },
  {
   "cell_type": "code",
   "execution_count": null,
   "id": "52f461f7",
   "metadata": {},
   "outputs": [],
   "source": [
    "from mnms.generation.layers import generate_matching_origin_destination_layer\n",
    "\n",
    "odlayer = generate_matching_origin_destination_layer(mlgraph.roads)"
   ]
  },
  {
   "cell_type": "markdown",
   "id": "64fa508b",
   "metadata": {},
   "source": [
    "### SimpleDecisionModel\n",
    "\n",
    "The `SimpleDecisionModel` only compute the best shortest path for the `User` and set its `path` attribute"
   ]
  },
  {
   "cell_type": "code",
   "execution_count": null,
   "id": "a6b0001a",
   "metadata": {},
   "outputs": [],
   "source": [
    "from mnms.travel_decision import DummyDecisionModel\n",
    "\n",
    "travel_decision = DummyDecisionModel(mlgraph, cost=\"length\")\n",
    "\n",
    "first_user = users[0]\n",
    "print(f\"{first_user}, path: {first_user.path}\")"
   ]
  },
  {
   "cell_type": "code",
   "execution_count": null,
   "id": "b022dacf",
   "metadata": {},
   "outputs": [],
   "source": [
    "travel_decision([first_user])\n",
    "\n",
    "print(f\"{first_user}, path: {first_user.path.nodes}\")"
   ]
  },
  {
   "cell_type": "markdown",
   "id": "a0c13876",
   "metadata": {},
   "source": [
    "### LogitDecisionModel\n",
    "\n",
    "The `LogitDecisionModel` compute `n` best shortest path and set a probability of choosing a path following this model:\n",
    "\n",
    "\\begin{equation}\n",
    "p_j=\\frac{e^{-\\theta c_j}}{\\sum_{i=1}^ne^{-\\theta c_i}}\n",
    "\\end{equation}\n",
    "\n",
    "Where:\n",
    "\n",
    "* c is the cost of the path\n",
    "* $\\theta$ is the logit parameter\n",
    "* n is the number of path"
   ]
  },
  {
   "cell_type": "code",
   "execution_count": null,
   "id": "c7719b9a",
   "metadata": {},
   "outputs": [],
   "source": [
    "from mnms.travel_decision import LogitDecisionModel\n",
    "\n",
    "travel_decision = LogitDecisionModel(mlgraph,\n",
    "                                     cost=\"length\",\n",
    "                                     theta=0.01,\n",
    "                                     n_shortest_path=2)\n",
    "\n",
    "second_user = users[1]\n",
    "print(f\"{second_user}, path: {second_user.path}\")"
   ]
  },
  {
   "cell_type": "code",
   "execution_count": null,
   "id": "679db45c",
   "metadata": {},
   "outputs": [],
   "source": [
    "travel_decision([second_user])\n",
    "\n",
    "print(f\"{second_user}, path:\\n {second_user.path}\")"
   ]
  },
  {
   "cell_type": "markdown",
   "id": "2c80c83c",
   "metadata": {},
   "source": [
    "### Rendering path"
   ]
  },
  {
   "cell_type": "code",
   "execution_count": null,
   "id": "0b883ad7",
   "metadata": {},
   "outputs": [],
   "source": [
    "from mnms.tools.render import draw_path\n",
    "\n",
    "fig, ax = plt.subplots(figsize=(16, 9))\n",
    "draw_roads(ax, mlgraph.roads, linkwidth=2, nodesize=5)\n",
    "draw_path(ax, mlgraph, second_user.path)"
   ]
  }
 ],
 "metadata": {
  "kernelspec": {
   "display_name": "Python 3 (ipykernel)",
   "language": "python",
   "name": "python3"
  },
  "language_info": {
   "codemirror_mode": {
    "name": "ipython",
    "version": 3
   },
   "file_extension": ".py",
   "mimetype": "text/x-python",
   "name": "python",
   "nbconvert_exporter": "python",
   "pygments_lexer": "ipython3",
   "version": "3.10.9"
  }
 },
 "nbformat": 4,
 "nbformat_minor": 5
}
