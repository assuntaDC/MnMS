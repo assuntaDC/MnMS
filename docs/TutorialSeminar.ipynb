{
 "cells": [
  {
   "cell_type": "markdown",
   "id": "c6ae8a01",
   "metadata": {},
   "source": [
    "# MnMS : Multimodal Network Modelling and Simulation"
   ]
  },
  {
   "cell_type": "markdown",
   "id": "a17e56af",
   "metadata": {},
   "source": [
    "## 1. The Network"
   ]
  },
  {
   "cell_type": "markdown",
   "id": "de32cf77",
   "metadata": {},
   "source": [
    "### Create a Grid of Roads"
   ]
  },
  {
   "cell_type": "markdown",
   "id": "f1761ded",
   "metadata": {},
   "source": [
    "*generate_manhattan_road*(**n**, **link_length**)\n",
    "1. **n** : Number of point in x and y direction\n",
    "2. **link_length** : Length of links"
   ]
  },
  {
   "cell_type": "code",
   "execution_count": null,
   "id": "7f66983d",
   "metadata": {},
   "outputs": [],
   "source": [
    "import matplotlib.pyplot as plt\n",
    "\n",
    "from mnms.generation.roads import generate_manhattan_road\n",
    "\n",
    "# generate a manhattan grid of roads 5x5 where each links has a length of 100\n",
    "roads = generate_manhattan_road(5, 100)"
   ]
  },
  {
   "cell_type": "markdown",
   "id": "13691085",
   "metadata": {},
   "source": [
    "### Display the Roads"
   ]
  },
  {
   "cell_type": "code",
   "execution_count": null,
   "id": "d70d17de",
   "metadata": {},
   "outputs": [],
   "source": [
    "from mnms.tools.render import draw_roads\n",
    "\n",
    "fig, ax = plt.subplots(figsize=(16, 9))\n",
    "draw_roads(ax, roads, linkwidth=4, nodesize=10)"
   ]
  },
  {
   "cell_type": "markdown",
   "id": "e63ee5b2",
   "metadata": {},
   "source": [
    "## 2. The Mobility Services"
   ]
  },
  {
   "cell_type": "markdown",
   "id": "9e11014a",
   "metadata": {},
   "source": [
    "### Add a \"Personal CAR\" Mobility Service"
   ]
  },
  {
   "cell_type": "markdown",
   "id": "463468b5",
   "metadata": {},
   "source": [
    "The name of the \"Personal CAR\" Mobility Service will be **'C0'**."
   ]
  },
  {
   "cell_type": "code",
   "execution_count": null,
   "id": "2c43b16d",
   "metadata": {},
   "outputs": [],
   "source": [
    "from mnms.generation.layers import generate_layer_from_roads\n",
    "from mnms.mobility_service.personal_vehicle import PersonalMobilityService\n",
    "\n",
    "car_service = PersonalMobilityService('C0')"
   ]
  },
  {
   "cell_type": "markdown",
   "id": "16b04782",
   "metadata": {},
   "source": [
    "### Add a \"UBER\" Mobility Service"
   ]
  },
  {
   "cell_type": "markdown",
   "id": "4e0e95ef",
   "metadata": {},
   "source": [
    "The name of the \"UBER\" Mobility Service will be **'UBER0'**."
   ]
  },
  {
   "cell_type": "code",
   "execution_count": null,
   "id": "a9212616",
   "metadata": {},
   "outputs": [],
   "source": [
    "from mnms.mobility_service.on_demand import OnDemandMobilityService, OnDemandDepotMobilityService\n",
    "uber_service = OnDemandDepotMobilityService(\"UBER0\", 0)"
   ]
  },
  {
   "cell_type": "markdown",
   "id": "ac4b5a95",
   "metadata": {},
   "source": [
    "### Create the \"CAR\" Layer"
   ]
  },
  {
   "cell_type": "markdown",
   "id": "e2cf46a0",
   "metadata": {},
   "source": [
    "The **'CAR'** Layer will contain both \"C0\" and \"UBER0\" mobility services."
   ]
  },
  {
   "cell_type": "code",
   "execution_count": null,
   "id": "2cdbc5eb",
   "metadata": {},
   "outputs": [],
   "source": [
    "from mnms.graph.layers import CarLayer\n",
    "\n",
    "# car_layer contains both car_service and uber_service\n",
    "car_layer = generate_layer_from_roads(roads, \"CAR\", mobility_services=[car_service, uber_service])"
   ]
  },
  {
   "cell_type": "markdown",
   "id": "8464e44c",
   "metadata": {},
   "source": [
    "### Add a \"BUS\" Mobility Service"
   ]
  },
  {
   "cell_type": "markdown",
   "id": "40a5cd94",
   "metadata": {},
   "source": [
    "The name of the \"BUS\" Mobility Service will be **'B0'**."
   ]
  },
  {
   "cell_type": "code",
   "execution_count": null,
   "id": "a732f244",
   "metadata": {},
   "outputs": [],
   "source": [
    "from mnms.mobility_service.public_transport import PublicTransportMobilityService\n",
    "\n",
    "# register_stop(sid, lid, relative_position)\n",
    "# sid: id of the stop created you want to give\n",
    "# lid: id of the link where the stop should be\n",
    "# relative_position: position on the link, should be between 0 and 1\n",
    "\n",
    "# West to East bus stops\n",
    "roads.register_stop('S_WE_0', 'WEST_2_2', 0.5)\n",
    "roads.register_stop('S_WE_1', '2_7', 0.5)\n",
    "roads.register_stop('S_WE_2', '7_12', 0.5)\n",
    "roads.register_stop('S_WE_3', '12_17', 0.5)\n",
    "roads.register_stop('S_WE_4', '17_22', 0.5)\n",
    "roads.register_stop('S_WE_5', '22_EAST_2', 0.5)\n",
    "\n",
    "# North to South bus stops\n",
    "roads.register_stop('S_NS_0', 'NORTH_2_14', 0.5)\n",
    "roads.register_stop('S_NS_1', '14_13', 0.5)\n",
    "roads.register_stop('S_NS_2', '13_12', 0.5)\n",
    "roads.register_stop('S_NS_3', '12_11', 0.5)\n",
    "roads.register_stop('S_NS_4', '11_10', 0.5)\n",
    "roads.register_stop('S_NS_5', '10_SOUTH_2', 0.5)\n",
    "\n",
    "bus_service = PublicTransportMobilityService('B0')\n"
   ]
  },
  {
   "cell_type": "markdown",
   "id": "bc3d7372",
   "metadata": {},
   "source": [
    "### Create the \"BUS\" Layer"
   ]
  },
  {
   "cell_type": "markdown",
   "id": "96ef3021",
   "metadata": {},
   "source": [
    "The **'BUS'** Layer will contain the \"B0\" mobility service.\n"
   ]
  },
  {
   "cell_type": "code",
   "execution_count": null,
   "id": "fa4f45e9",
   "metadata": {},
   "outputs": [],
   "source": [
    "from mnms.graph.layers import PublicTransportLayer\n",
    "from mnms.vehicles.veh_type import Bus\n",
    "from mnms.time import TimeTable, Dt\n",
    "\n",
    "# default_speed: 30\n",
    "bus_layer = PublicTransportLayer(roads, 'BUS', Bus, 30, services=[bus_service])\n",
    "\n",
    "# create_line(lid, stops, sections, timetable)\n",
    "# lid: id of the line created you want to give\n",
    "# stops: list containing the stops of the line\n",
    "# sections: list containing sublists where each sublist contains two links, the list is used to connect the stops\n",
    "#           between them. Please see example below.\n",
    "# timetable: timetable of the line\n",
    "\n",
    "# create_table_freq(start, stop, dt)\n",
    "# start: start time (first departure)\n",
    "# end: end time (last departure)\n",
    "# dt: frequency, unit (minutes/seconds) can be specified\n",
    "\n",
    "# Central bus line West to East\n",
    "bus_layer.create_line('L_WE',\n",
    "                    ['S_WE_0', 'S_WE_1', 'S_WE_2', 'S_WE_3', 'S_WE_4', 'S_WE_5'],\n",
    "                    [['WEST_2_2', '2_7'], ['2_7','7_12'], ['7_12', '12_17'], ['12_17', '17_22'], ['17_22', '22_EAST_2']],\n",
    "                    TimeTable.create_table_freq('08:00:00', '12:00:00', Dt(minutes=1)))\n",
    "\n",
    "# Central bus line North to South\n",
    "bus_layer.create_line('L_NS',\n",
    "                    ['S_NS_0', 'S_NS_1', 'S_NS_2', 'S_NS_3', 'S_NS_4', 'S_NS_5'],\n",
    "                    [['NORTH_2_14', '14_13'], ['14_13', '13_12'], ['13_12', '12_11'], ['12_11', '11_10'], ['11_10', '10_SOUTH_2']],\n",
    "                    TimeTable.create_table_freq('08:00:00', '12:00:00', Dt(minutes=1)))"
   ]
  },
  {
   "cell_type": "markdown",
   "id": "9922eb25",
   "metadata": {},
   "source": [
    "## 3. The Multilayer graph"
   ]
  },
  {
   "cell_type": "markdown",
   "id": "2657d4e6",
   "metadata": {},
   "source": [
    "### Create an OD Layer"
   ]
  },
  {
   "cell_type": "code",
   "execution_count": null,
   "id": "9f3dab66",
   "metadata": {
    "scrolled": true
   },
   "outputs": [],
   "source": [
    "from mnms.generation.layers import _generate_matching_origin_destination_layer\n",
    "\n",
    "odlayer = _generate_matching_origin_destination_layer(roads)"
   ]
  },
  {
   "cell_type": "markdown",
   "id": "8765f1b1",
   "metadata": {},
   "source": [
    "### Create a Multi Layer Graph"
   ]
  },
  {
   "cell_type": "markdown",
   "id": "0a65a618",
   "metadata": {},
   "source": [
    "The **\"Transit Link\"** is used to connect a layer to another one."
   ]
  },
  {
   "cell_type": "code",
   "execution_count": null,
   "id": "79809b3b",
   "metadata": {},
   "outputs": [],
   "source": [
    "from mnms.graph.layers import MultiLayerGraph\n",
    "\n",
    "# MultiLayerGraph(layers, odlayer, connection_distance)\n",
    "mlgraph = MultiLayerGraph([car_layer, bus_layer], odlayer, 1e-5)\n",
    "\n",
    "# connect_layers(lid, upstream, downstream, length, costs)\n",
    "# lid: id of the layer connection (or transit link) created you want to give\n",
    "# upstream: id of node from upstream layer\n",
    "# downstream: id of node from downstream layer\n",
    "# length: length of the transit link\n",
    "# costs: dict with the costs of the transit link\n",
    "\n",
    "mlgraph.connect_layers(\"TL1\", \"CAR_WEST_2\", \"L_WE_S_WE_0\", 5, {})\n",
    "mlgraph.connect_layers(\"TL2\", \"CAR_2\", \"L_WE_S_WE_0\", 5, {})\n",
    "\n",
    "mlgraph.connect_layers(\"TL3\", \"CAR_22\", \"L_WE_S_WE_5\", 5, {})\n",
    "mlgraph.connect_layers(\"TL4\", \"CAR_EAST_2\", \"L_WE_S_WE_5\", 5, {})\n",
    "\n",
    "mlgraph.connect_layers(\"TL5\", \"CAR_NORTH_2\", \"L_NS_S_NS_0\", 5, {})\n",
    "mlgraph.connect_layers(\"TL6\", \"CAR_14\", \"L_NS_S_NS_0\", 5, {})\n",
    "\n",
    "mlgraph.connect_layers(\"TL7\", \"CAR_10\", \"L_NS_S_NS_5\", 5, {})\n",
    "mlgraph.connect_layers(\"TL8\", \"CAR_SOUTH_2\", \"L_NS_S_NS_5\", 5, {})\n",
    "\n",
    "mlgraph.connect_layers(\"TL9\", \"CAR_12\", \"L_WE_S_WE_2\", 5, {})\n",
    "mlgraph.connect_layers(\"TL10\", \"CAR_12\", \"L_WE_S_WE_3\", 5, {})\n",
    "mlgraph.connect_layers(\"TL11\", \"CAR_12\", \"L_NS_S_NS_2\", 5, {})\n",
    "mlgraph.connect_layers(\"TL12\", \"CAR_12\", \"L_NS_S_NS_3\", 5, {})"
   ]
  },
  {
   "cell_type": "markdown",
   "id": "93abc46b",
   "metadata": {},
   "source": [
    "### Display the Bus Lines"
   ]
  },
  {
   "cell_type": "code",
   "execution_count": null,
   "id": "537709a9",
   "metadata": {},
   "outputs": [],
   "source": [
    "from mnms.tools.render import draw_line, draw_odlayer\n",
    "\n",
    "fig, ax = plt.subplots(figsize=(16, 9))\n",
    "draw_roads(ax, roads, linkwidth=2, nodesize=10)\n",
    "draw_line(ax, mlgraph, bus_layer.lines[\"L_WE\"], color='green')\n",
    "draw_line(ax, mlgraph, bus_layer.lines[\"L_NS\"], color='blue')"
   ]
  },
  {
   "cell_type": "markdown",
   "id": "5167286a",
   "metadata": {},
   "source": [
    "### Add a Uber Depot"
   ]
  },
  {
   "cell_type": "markdown",
   "id": "cf42bff5",
   "metadata": {},
   "source": [
    "The Uber depot will be created at the node \"CAR_12\" of the network and will have a capacity of 2 Uber cars."
   ]
  },
  {
   "cell_type": "code",
   "execution_count": null,
   "id": "01c374f6",
   "metadata": {},
   "outputs": [],
   "source": [
    "uber_service.add_depot(\"CAR_12\", capacity=2)"
   ]
  },
  {
   "cell_type": "markdown",
   "id": "47015958",
   "metadata": {},
   "source": [
    "## 4. The Users"
   ]
  },
  {
   "cell_type": "markdown",
   "id": "53efd5c3",
   "metadata": {},
   "source": [
    "### Generate a Demand"
   ]
  },
  {
   "cell_type": "markdown",
   "id": "88aa7cf1",
   "metadata": {},
   "source": [
    "The demand will have 10 users from 9:00 to 11:00."
   ]
  },
  {
   "cell_type": "code",
   "execution_count": null,
   "id": "27935e40",
   "metadata": {},
   "outputs": [],
   "source": [
    "from mnms.generation.demand import generate_random_demand\n",
    "\n",
    "demand = generate_random_demand(mlgraph,\n",
    "                                9,\n",
    "                                tstart=\"9:00:00\", \n",
    "                                tend=\"11:00:00\", \n",
    "                                min_cost=0.4)\n",
    "\n",
    "demand.show_users()"
   ]
  },
  {
   "cell_type": "markdown",
   "id": "dfb59ebe",
   "metadata": {},
   "source": [
    "### Load the Demand in MnMS"
   ]
  },
  {
   "cell_type": "code",
   "execution_count": null,
   "id": "335e85af",
   "metadata": {},
   "outputs": [],
   "source": [
    "from mnms.time import Time\n",
    "\n",
    "users = demand.get_next_departures(Time(\"09:00:00\"), Time(\"11:00:00\"))"
   ]
  },
  {
   "cell_type": "markdown",
   "id": "aeb65d14",
   "metadata": {},
   "source": [
    "### Create a Decision Model"
   ]
  },
  {
   "cell_type": "markdown",
   "id": "89f2e71a",
   "metadata": {},
   "source": [
    "The costs of the computed paths will be based on **travel time**."
   ]
  },
  {
   "cell_type": "code",
   "execution_count": null,
   "id": "7980442d",
   "metadata": {},
   "outputs": [],
   "source": [
    "from mnms.travel_decision import LogitDecisionModel\n",
    "\n",
    "travel_decision = LogitDecisionModel(mlgraph,\n",
    "                                     cost=\"travel_time\",\n",
    "                                     theta=0.01,\n",
    "                                     n_shortest_path=3, outfile=\"path.csv\")"
   ]
  },
  {
   "cell_type": "markdown",
   "id": "a7f8fbf3",
   "metadata": {},
   "source": [
    "### Compute the Paths"
   ]
  },
  {
   "cell_type": "code",
   "execution_count": null,
   "id": "dd15e7d3",
   "metadata": {},
   "outputs": [],
   "source": [
    "for user in users:\n",
    "    travel_decision([user], user.departure_time)\n",
    "\n",
    "for user in users:\n",
    "    print(f\"{user}, services:\\n {user.path.mobility_services}\")"
   ]
  },
  {
   "cell_type": "markdown",
   "id": "5a2eb2cf",
   "metadata": {},
   "source": [
    "### Display some Paths"
   ]
  },
  {
   "cell_type": "markdown",
   "id": "3f73d5c8",
   "metadata": {},
   "source": [
    "We want to display the paths of users who have taken the bus."
   ]
  },
  {
   "cell_type": "code",
   "execution_count": null,
   "id": "ce858548",
   "metadata": {},
   "outputs": [],
   "source": [
    "from mnms.tools.render import draw_path\n",
    "\n",
    "for user in users:\n",
    "    if len(user.path.mobility_services) > 1:\n",
    "        fig, ax = plt.subplots(figsize=(16, 9))\n",
    "        draw_roads(ax, mlgraph.roads, linkwidth=4, nodesize=10)\n",
    "        draw_path(ax, mlgraph, user.path)"
   ]
  },
  {
   "cell_type": "markdown",
   "id": "582d21b5",
   "metadata": {},
   "source": [
    "## 5. The Simulation"
   ]
  },
  {
   "cell_type": "markdown",
   "id": "89800ed4",
   "metadata": {},
   "source": [
    "### Create a MFD (Macroscopic Fundamental Diagram) Function"
   ]
  },
  {
   "cell_type": "markdown",
   "id": "4d63c5da",
   "metadata": {},
   "source": [
    "The MFD Function will define the speed for each transport layer :\n",
    "1. The speed of **Bus** mobility service is fixed at 30m/s\n",
    "2. The speed of **Personal Car** and **Uber** mobility services will depend on traffic (accumulation)"
   ]
  },
  {
   "cell_type": "code",
   "execution_count": null,
   "id": "de501fa2",
   "metadata": {},
   "outputs": [],
   "source": [
    "def v_MFD(acc):\n",
    "    V = 0\n",
    "    N = acc[\"CAR\"]\n",
    "    \n",
    "    if N < 10:\n",
    "        V = 14\n",
    "    elif N < 20:\n",
    "        V = 12\n",
    "    elif N < 50:\n",
    "        V = 10\n",
    "    else:\n",
    "        V = 5\n",
    "        \n",
    "    V_BUS = 30\n",
    "    return {\"CAR\": V, \"BUS\": V_BUS}"
   ]
  },
  {
   "cell_type": "markdown",
   "id": "721934f2",
   "metadata": {},
   "source": [
    "### Add a Flow Motor"
   ]
  },
  {
   "cell_type": "markdown",
   "id": "b1367df7",
   "metadata": {},
   "source": [
    "The network will have only one **Reservoir**."
   ]
  },
  {
   "cell_type": "code",
   "execution_count": null,
   "id": "63f18cef",
   "metadata": {},
   "outputs": [],
   "source": [
    "from mnms.flow.MFD import Reservoir, MFDFlowMotor\n",
    "\n",
    "flow_motor = MFDFlowMotor()\n",
    "res = Reservoir(mlgraph.roads.zones[\"RES\"], [\"CAR\", \"BUS\"], v_MFD)\n",
    "flow_motor.add_reservoir(res)"
   ]
  },
  {
   "cell_type": "markdown",
   "id": "08db03e1",
   "metadata": {},
   "source": [
    "### Create a Supervisor"
   ]
  },
  {
   "cell_type": "markdown",
   "id": "71349253",
   "metadata": {},
   "source": [
    "The supervisor contains the Multi-Layer Graph, the Demand, the Flow Motor and the Decision Model."
   ]
  },
  {
   "cell_type": "code",
   "execution_count": null,
   "id": "7ea49b30",
   "metadata": {},
   "outputs": [],
   "source": [
    "from mnms.simulation import Supervisor\n",
    "\n",
    "supervisor = Supervisor(mlgraph,\n",
    "                        demand,\n",
    "                        flow_motor,\n",
    "                        travel_decision,\n",
    "                        outfile=\"travel_time_link.csv\")"
   ]
  },
  {
   "cell_type": "markdown",
   "id": "9bc44fc7",
   "metadata": {},
   "source": [
    "### Run the Simulation"
   ]
  },
  {
   "cell_type": "markdown",
   "id": "dce77153",
   "metadata": {},
   "source": [
    "The MnMS Simulation will run from 9:00 to 12:00."
   ]
  },
  {
   "cell_type": "code",
   "execution_count": null,
   "id": "283816cb",
   "metadata": {},
   "outputs": [],
   "source": [
    "supervisor.run(Time(\"09:00:00\"),\n",
    "               Time(\"12:00:00\"),\n",
    "               Dt(minutes=1),\n",
    "               1)"
   ]
  },
  {
   "cell_type": "code",
   "execution_count": null,
   "id": "b02191f5",
   "metadata": {},
   "outputs": [],
   "source": []
  }
 ],
 "metadata": {
  "kernelspec": {
   "display_name": "Python 3 (ipykernel)",
   "language": "python",
   "name": "python3"
  },
  "language_info": {
   "codemirror_mode": {
    "name": "ipython",
    "version": 3
   },
   "file_extension": ".py",
   "mimetype": "text/x-python",
   "name": "python",
   "nbconvert_exporter": "python",
   "pygments_lexer": "ipython3",
   "version": "3.10.9"
  }
 },
 "nbformat": 4,
 "nbformat_minor": 5
}
