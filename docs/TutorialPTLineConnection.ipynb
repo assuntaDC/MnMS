{
 "cells": [
  {
   "cell_type": "code",
   "execution_count": null,
   "id": "b15f8076",
   "metadata": {},
   "outputs": [],
   "source": [
    "# Generate the road descriptor\n",
    "from mnms.generation.roads import generate_manhattan_road\n",
    "\n",
    "# generate a manhattan grid of roads 1x1 where each links has a length of 10000\n",
    "roads = generate_manhattan_road(1, 10000)"
   ]
  },
  {
   "cell_type": "code",
   "execution_count": null,
   "id": "82b5670b",
   "metadata": {},
   "outputs": [],
   "source": [
    "import matplotlib.pyplot as plt\n",
    "from mnms.tools.render import draw_roads\n",
    "\n",
    "fig, ax = plt.subplots(figsize=(16, 9))\n",
    "draw_roads(ax, roads, linkwidth=4, nodesize=10, label_size=15)"
   ]
  },
  {
   "cell_type": "code",
   "execution_count": null,
   "id": "98dc0cee",
   "metadata": {},
   "outputs": [],
   "source": [
    "import pprint\n",
    "pprint.pprint(roads.sections)\n",
    "pprint.pprint(roads.nodes)"
   ]
  },
  {
   "cell_type": "code",
   "execution_count": null,
   "id": "86b06543",
   "metadata": {},
   "outputs": [],
   "source": [
    "# Create the personal car mobility service\n",
    "# from mnms.mobility_service.personal_vehicle import PersonalMobilityService\n",
    "# personal_car = PersonalMobilityService()\n",
    "\n",
    "# from mnms.tools.observer import CSVVehicleObserver\n",
    "# personal_car.attach_vehicle_observer(CSVVehicleObserver(\"PC.csv\"))\n",
    "\n",
    "# from mnms.graph.layers import CarLayer\n",
    "# car_layer = CarLayer(road_descriptor, services=[personal_car])\n",
    "\n",
    "# car_layer.create_node(\"CAR_0\", \"0\")\n",
    "# car_layer.create_node(\"CAR_1\", \"1\")\n",
    "# car_layer.create_link(\"CAR_0_1\", \"CAR_0\", \"CAR_1\", {}, [\"0_1\"])"
   ]
  },
  {
   "cell_type": "code",
   "execution_count": null,
   "id": "f77455bb",
   "metadata": {},
   "outputs": [],
   "source": [
    "# Create the public transport mobility service\n",
    "from mnms.mobility_service.public_transport import PublicTransportMobilityService\n",
    "PT_service = PublicTransportMobilityService('PT')\n",
    "\n",
    "from mnms.tools.observer import CSVVehicleObserver\n",
    "PT_service.attach_vehicle_observer(CSVVehicleObserver(\"PT.csv\"))"
   ]
  },
  {
   "cell_type": "code",
   "execution_count": null,
   "id": "6be0f30e",
   "metadata": {},
   "outputs": [],
   "source": [
    "# Generate the layer for the public transport mobility service\n",
    "from mnms.graph.layers import PublicTransportLayer\n",
    "from mnms.vehicles.veh_type import Bus\n",
    "PT_layer = PublicTransportLayer(roads, 'PT_layer', Bus, 20, services=[PT_service])"
   ]
  },
  {
   "cell_type": "code",
   "execution_count": null,
   "id": "ebc00ead",
   "metadata": {},
   "outputs": [],
   "source": [
    "# Generate the public transport stops\n",
    "\n",
    "roads.register_stop('NORTH_0_NS', 'NORTH_0_0', 0.)\n",
    "roads.register_stop('NORTH_0_SN', '0_NORTH_0', 1)\n",
    "\n",
    "roads.register_stop('SOUTH_0_SN', 'SOUTH_0_0', 0.)\n",
    "roads.register_stop('SOUTH_0_NS', '0_SOUTH_0', 1)\n",
    "\n",
    "roads.register_stop('EAST_0_EW', 'EAST_0_0', 0.)\n",
    "roads.register_stop('EAST_0_WE', '0_EAST_0', 1)\n",
    "\n",
    "roads.register_stop('WEST_0_WE', 'WEST_0_0', 0.)\n",
    "roads.register_stop('WEST_0_EW', '0_WEST_0', 1)\n",
    "\n",
    "roads.register_stop('0_NS', '0_SOUTH_0', 0.)\n",
    "roads.register_stop('0_SN', '0_NORTH_0', 0.)\n",
    "roads.register_stop('0_EW', '0_WEST_0', 0.)\n",
    "roads.register_stop('0_WE', '0_EAST_0', 0.)"
   ]
  },
  {
   "cell_type": "code",
   "execution_count": null,
   "id": "3fde6711",
   "metadata": {},
   "outputs": [],
   "source": [
    "pprint.pprint(roads.stops)"
   ]
  },
  {
   "cell_type": "code",
   "execution_count": null,
   "id": "2ac77db6",
   "metadata": {},
   "outputs": [],
   "source": [
    "from mnms.time import TimeTable, Dt, Time\n",
    "PT_layer.create_line('NS',\n",
    "                    ['NORTH_0_NS', '0_NS', 'SOUTH_0_NS'],\n",
    "                    [['NORTH_0_0'],['0_SOUTH_0']],\n",
    "                    TimeTable.create_table_freq('07:00:00', '08:00:00', Dt(minutes=5)))\n",
    "\n",
    "PT_layer.create_line('SN',\n",
    "                    ['SOUTH_0_SN', '0_SN', 'NORTH_0_SN'],\n",
    "                    [['SOUTH_0_0'],['0_NORTH_0']],\n",
    "                    TimeTable.create_table_freq('07:00:00', '08:00:00', Dt(minutes=5)))\n",
    "\n",
    "PT_layer.create_line('EW',\n",
    "                    ['EAST_0_EW', '0_EW', 'WEST_0_EW'],\n",
    "                    [['EAST_0_0'],['0_WEST_0']],\n",
    "                    TimeTable.create_table_freq('07:00:00', '08:00:00', Dt(minutes=5)))\n",
    "\n",
    "PT_layer.create_line('WE',\n",
    "                    ['WEST_0_WE', '0_WE', 'EAST_0_WE'],\n",
    "                    [['WEST_0_0'],['0_EAST_0']],\n",
    "                    TimeTable.create_table_freq('07:00:00', '08:00:00', Dt(minutes=5)))\n",
    "\n",
    "# To do: try various frequencies to understand the cost"
   ]
  },
  {
   "cell_type": "code",
   "execution_count": null,
   "id": "1a508069",
   "metadata": {},
   "outputs": [],
   "source": [
    "# Generate the od layer\n",
    "from mnms.generation.layers import generate_matching_origin_destination_layer\n",
    "od_layer = generate_matching_origin_destination_layer(roads)"
   ]
  },
  {
   "cell_type": "code",
   "execution_count": null,
   "id": "d9345c48",
   "metadata": {},
   "outputs": [],
   "source": [
    "# Generate the multilayer graph\n",
    "from mnms.graph.layers import MultiLayerGraph\n",
    "ml_graph = MultiLayerGraph([PT_layer],od_layer,200)"
   ]
  },
  {
   "cell_type": "code",
   "execution_count": null,
   "id": "d1881f57",
   "metadata": {
    "scrolled": true
   },
   "outputs": [],
   "source": [
    "pprint.pprint(ml_graph.graph.nodes)"
   ]
  },
  {
   "cell_type": "code",
   "execution_count": null,
   "id": "a91b2975",
   "metadata": {},
   "outputs": [],
   "source": [
    "ml_graph.connect_layers(\"TL_NW\", \"NS_0_NS\", \"EW_0_EW\", 1, {})\n",
    "ml_graph.connect_layers(\"TL_NE\", \"NS_0_NS\", \"WE_0_WE\", 1, {})\n",
    "ml_graph.connect_layers(\"TL_SW\", \"SN_0_SN\", \"EW_0_EW\", 1, {})\n",
    "ml_graph.connect_layers(\"TL_SE\", \"SN_0_SN\", \"WE_0_WE\", 1, {})\n",
    "ml_graph.connect_layers(\"TL_ES\", \"EW_0_EW\", \"NS_0_NS\", 1, {})\n",
    "ml_graph.connect_layers(\"TL_EN\", \"EW_0_EW\", \"SN_0_SN\", 1, {})\n",
    "ml_graph.connect_layers(\"TL_WS\", \"WE_0_WE\", \"NS_0_NS\", 1, {})\n",
    "ml_graph.connect_layers(\"TL_WN\", \"WE_0_WE\", \"SN_0_SN\", 1, {})"
   ]
  },
  {
   "cell_type": "code",
   "execution_count": null,
   "id": "93c34068",
   "metadata": {},
   "outputs": [],
   "source": [
    "# Decison Model\n",
    "from mnms.travel_decision.dummy import DummyDecisionModel\n",
    "decision_model = DummyDecisionModel(ml_graph, outfile=\"path.csv\")"
   ]
  },
  {
   "cell_type": "code",
   "execution_count": null,
   "id": "2bc7d995",
   "metadata": {},
   "outputs": [],
   "source": [
    "# Demand\n",
    "from mnms.demand import BaseDemandManager, User\n",
    "from mnms.tools.observer import CSVUserObserver\n",
    "\n",
    "users=[]\n",
    "# N -> S\n",
    "users.append(User(\"U0\", [0, 10000], [0, -10000], Time(\"07:00:00\")))\n",
    "# E -> Zero\n",
    "users.append(User(\"U1\", [10000, 0], [0, 0], Time(\"07:02:00\")))\n",
    "# N -> W\n",
    "users.append(User(\"U2\", [0, 10000], [-10000, 0], Time(\"07:04:00\")))\n",
    "\n",
    "demand = BaseDemandManager(users)\n",
    "demand.add_user_observer(CSVUserObserver('user.csv'))"
   ]
  },
  {
   "cell_type": "code",
   "execution_count": null,
   "id": "482f4b58",
   "metadata": {},
   "outputs": [],
   "source": [
    "# Flow Motor\n",
    "def mfdspeed(dacc):\n",
    "    dspeed = {'BUS': 20}\n",
    "    return dspeed\n",
    "\n",
    "from mnms.flow.MFD import MFDFlowMotor, Reservoir\n",
    "flow_motor = MFDFlowMotor()\n",
    "flow_motor.add_reservoir(Reservoir(roads.zones[\"RES\"], ['BUS'], mfdspeed))\n",
    "# To do: understand the mode"
   ]
  },
  {
   "cell_type": "code",
   "execution_count": null,
   "id": "c42a453a",
   "metadata": {},
   "outputs": [],
   "source": [
    "# Supervisor\n",
    "from mnms.simulation import Supervisor\n",
    "supervisor = Supervisor(ml_graph,\n",
    "                        demand,\n",
    "                        flow_motor,\n",
    "                        decision_model)"
   ]
  },
  {
   "cell_type": "code",
   "execution_count": null,
   "id": "e360394d",
   "metadata": {},
   "outputs": [],
   "source": [
    "# Simulation\n",
    "supervisor.run(Time(\"07:00:00\"),\n",
    "               Time(\"07:10:00\"),\n",
    "               Dt(seconds=1),\n",
    "               10)"
   ]
  },
  {
   "cell_type": "code",
   "execution_count": null,
   "id": "d4c38d23",
   "metadata": {},
   "outputs": [],
   "source": []
  }
 ],
 "metadata": {
  "kernelspec": {
   "display_name": "Python 3 (ipykernel)",
   "language": "python",
   "name": "python3"
  },
  "language_info": {
   "codemirror_mode": {
    "name": "ipython",
    "version": 3
   },
   "file_extension": ".py",
   "mimetype": "text/x-python",
   "name": "python",
   "nbconvert_exporter": "python",
   "pygments_lexer": "ipython3",
   "version": "3.10.6"
  }
 },
 "nbformat": 4,
 "nbformat_minor": 5
}
