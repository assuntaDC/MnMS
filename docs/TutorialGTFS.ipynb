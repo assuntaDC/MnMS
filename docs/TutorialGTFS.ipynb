{
 "cells": [
  {
   "cell_type": "markdown",
   "id": "0c41659f",
   "metadata": {},
   "source": [
    "# MnMS Tutorial: Exploitation of GTFS Data"
   ]
  },
  {
   "cell_type": "code",
   "execution_count": null,
   "id": "9cad6720",
   "metadata": {
    "scrolled": true
   },
   "outputs": [],
   "source": [
    "from gtfs_functions import Feed\n",
    "from shapely.geometry import LineString, Point"
   ]
  },
  {
   "cell_type": "code",
   "execution_count": null,
   "id": "198809f0",
   "metadata": {},
   "outputs": [],
   "source": [
    "import plotly.express as px\n",
    "import plotly.graph_objects as go\n",
    "import matplotlib.pyplot as plt"
   ]
  },
  {
   "cell_type": "code",
   "execution_count": null,
   "id": "39c79e11",
   "metadata": {},
   "outputs": [],
   "source": [
    "import geopandas as gpd"
   ]
  },
  {
   "cell_type": "markdown",
   "id": "e03c6929",
   "metadata": {},
   "source": [
    "## Read GTFS Data"
   ]
  },
  {
   "cell_type": "markdown",
   "id": "6e397a73",
   "metadata": {},
   "source": [
    "The following code will parse a GTFS folder into datasets."
   ]
  },
  {
   "cell_type": "code",
   "execution_count": null,
   "id": "65c07401",
   "metadata": {},
   "outputs": [],
   "source": [
    "gtfs_path = \"lyon_tcl.zip\"\n",
    "feed = Feed(gtfs_path)\n",
    "\n",
    "routes = feed.routes\n",
    "stops = feed.stops\n",
    "stop_times = feed.stop_times\n",
    "trips = feed.trips\n",
    "shapes = feed.shapes"
   ]
  },
  {
   "cell_type": "markdown",
   "id": "0f4bc9c5",
   "metadata": {},
   "source": [
    "Three DataFrames (routes, stop_times and trips) and two GeoDataFrames (stops and shapes) are generated."
   ]
  },
  {
   "cell_type": "markdown",
   "id": "265c694f",
   "metadata": {},
   "source": [
    "### Routes"
   ]
  },
  {
   "cell_type": "code",
   "execution_count": null,
   "id": "bfef4f05",
   "metadata": {},
   "outputs": [],
   "source": [
    "routes.head()"
   ]
  },
  {
   "cell_type": "markdown",
   "id": "5a856b11",
   "metadata": {},
   "source": [
    "### Stops"
   ]
  },
  {
   "cell_type": "code",
   "execution_count": null,
   "id": "3399130c",
   "metadata": {
    "scrolled": true
   },
   "outputs": [],
   "source": [
    "stops.head()"
   ]
  },
  {
   "cell_type": "markdown",
   "id": "4cf47f1d",
   "metadata": {},
   "source": [
    "### Stop Times"
   ]
  },
  {
   "cell_type": "code",
   "execution_count": null,
   "id": "5b401cad",
   "metadata": {},
   "outputs": [],
   "source": [
    "stop_times.head()"
   ]
  },
  {
   "cell_type": "markdown",
   "id": "021fd6bd",
   "metadata": {},
   "source": [
    "### Trips"
   ]
  },
  {
   "cell_type": "code",
   "execution_count": null,
   "id": "4a23a0d3",
   "metadata": {},
   "outputs": [],
   "source": [
    "trips.head()"
   ]
  },
  {
   "cell_type": "markdown",
   "id": "9ee5f8af",
   "metadata": {},
   "source": [
    "### Shapes"
   ]
  },
  {
   "cell_type": "code",
   "execution_count": null,
   "id": "1a22849b",
   "metadata": {},
   "outputs": [],
   "source": [
    "shapes.head()"
   ]
  },
  {
   "cell_type": "markdown",
   "id": "6867883c",
   "metadata": {},
   "source": [
    "### Calculate Stop Frequencies"
   ]
  },
  {
   "cell_type": "code",
   "execution_count": null,
   "id": "fa9e9f9f",
   "metadata": {},
   "outputs": [],
   "source": [
    "time_windows = [0, 6, 9, 15.5, 19, 22, 24]\n",
    "\n",
    "feed = Feed(gtfs_path, time_windows=time_windows)\n",
    "stop_freq = feed.stops_freq\n",
    "stop_freq.head()"
   ]
  },
  {
   "cell_type": "markdown",
   "id": "354db74b",
   "metadata": {},
   "source": [
    "### Calculate Line Frequencies"
   ]
  },
  {
   "cell_type": "code",
   "execution_count": null,
   "id": "0b96da3c",
   "metadata": {},
   "outputs": [],
   "source": [
    "line_freq = feed.lines_freq\n",
    "line_freq.head()"
   ]
  },
  {
   "cell_type": "markdown",
   "id": "58d569b6",
   "metadata": {},
   "source": [
    "### Cut the Shapes into Segments"
   ]
  },
  {
   "cell_type": "code",
   "execution_count": null,
   "id": "b0f8254d",
   "metadata": {},
   "outputs": [],
   "source": [
    "segments_gdf = feed.segments\n",
    "segments_gdf.head()"
   ]
  },
  {
   "cell_type": "markdown",
   "id": "e144bbfa",
   "metadata": {},
   "source": [
    "### Calculate Segments Speeds"
   ]
  },
  {
   "cell_type": "code",
   "execution_count": null,
   "id": "87beb1fa",
   "metadata": {
    "scrolled": true
   },
   "outputs": [],
   "source": [
    "speeds = feed.avg_speeds\n",
    "speeds.head()"
   ]
  },
  {
   "cell_type": "markdown",
   "id": "aed566f5",
   "metadata": {},
   "source": [
    "### Calculate Segment Frequencies"
   ]
  },
  {
   "cell_type": "code",
   "execution_count": null,
   "id": "edafe30e",
   "metadata": {},
   "outputs": [],
   "source": [
    "segments_freq = feed.segments_freq\n",
    "segments_freq.head()"
   ]
  },
  {
   "cell_type": "markdown",
   "id": "8bc60df9",
   "metadata": {},
   "source": [
    "### Plot stops coordinates"
   ]
  },
  {
   "cell_type": "code",
   "execution_count": null,
   "id": "e258ac98",
   "metadata": {},
   "outputs": [],
   "source": [
    "stops_coords = stops[\"geometry\"]\n",
    "points = []\n",
    "\n",
    "for sc in stops_coords:\n",
    "    points.append(Point(sc))\n",
    "\n",
    "xs = [point.x for point in points]\n",
    "ys = [point.y for point in points]\n",
    "    \n",
    "plt.scatter(xs, ys, color=\"red\", s=0.1)\n",
    "    \n",
    "plt.show()"
   ]
  },
  {
   "cell_type": "markdown",
   "id": "17612614",
   "metadata": {},
   "source": [
    "### Extract a list of stops for a specific line"
   ]
  },
  {
   "cell_type": "markdown",
   "id": "4cc25095",
   "metadata": {},
   "source": [
    "There is no direct relationship between routes and stops in GTFS, stops are associated with trips.\n",
    "Each trip represents a single travel of a vehicle along a particular route/path.\n",
    "\n",
    "Assuming we know the id of one route in routes. We will also need the datasets stops, trips and stop_times."
   ]
  },
  {
   "cell_type": "code",
   "execution_count": null,
   "id": "62e9a20c",
   "metadata": {
    "scrolled": true
   },
   "outputs": [],
   "source": [
    "route_id_example_1 = \"T2a80\"\n",
    "\n",
    "# Filtering for the desired route_id_example_1\n",
    "ftrips = trips.loc[trips['route_id'] == route_id_example_1]\n",
    "\n",
    "# Performing the equivalent of INNER JOINs\n",
    "merged_data = ftrips.merge(stop_times, on='trip_id').merge(stops, on='stop_id')\n",
    "\n",
    "# Select the longest trip in route\n",
    "longest_trip_id = \"\"\n",
    "longest_stops_count = 0\n",
    "\n",
    "for index, md in merged_data.iterrows():\n",
    "    trip_id = md[\"trip_id\"]\n",
    "    stops_count = merged_data[\"trip_id\"].value_counts()[trip_id]\n",
    "    if stops_count > longest_stops_count:\n",
    "        longest_trip_id = trip_id\n",
    "        longest_stops_count = stops_count\n",
    "\n",
    "# print(longest_trip_id, longest_stops_count)\n",
    "\n",
    "# Selecting distinct stop_id and stop_name\n",
    "merged_stops = merged_data[['stop_id', 'trip_id', 'stop_sequence', 'stop_name_y', 'stop_lat_y', 'stop_lon_y', 'geometry_y']]\n",
    "distinct_stops = merged_stops.loc[merged_stops[\"trip_id\"] == longest_trip_id]\n",
    "distinct_stops = distinct_stops.sort_values(['stop_sequence'])\n",
    "distinct_stops = distinct_stops.reset_index()\n"
   ]
  },
  {
   "cell_type": "markdown",
   "id": "cfca2004",
   "metadata": {},
   "source": [
    "### Function defintion to get the list of stops for the longest trip of a route"
   ]
  },
  {
   "cell_type": "code",
   "execution_count": null,
   "id": "70a18f64",
   "metadata": {},
   "outputs": [],
   "source": [
    "def getLongestTripStops(route_id):\n",
    "    \n",
    "    # Filtering for the desired route_id_example_1\n",
    "    ftrips = trips.loc[trips[\"route_id\"] == route_id]\n",
    "\n",
    "    # Performing the equivalent of INNER JOINs\n",
    "    merged_data = ftrips.merge(stop_times, on='trip_id').merge(stops, on='stop_id')\n",
    "\n",
    "    # Select the longest trip in route\n",
    "    longest_trip_id = \"\"\n",
    "    longest_stops_count = 0\n",
    "\n",
    "    for index, md in merged_data.iterrows():\n",
    "        trip_id = md[\"trip_id\"]\n",
    "        stops_count = merged_data[\"trip_id\"].value_counts()[trip_id]\n",
    "        if stops_count > longest_stops_count:\n",
    "            longest_trip_id = trip_id\n",
    "            longest_stops_count = stops_count\n",
    "\n",
    "    # Selecting distinct stop_id and stop_name\n",
    "    merged_stops = merged_data[['stop_id', 'trip_id', 'stop_sequence', 'stop_name_y', 'stop_lat_y', 'stop_lon_y', 'geometry_y']]\n",
    "    distinct_stops = merged_stops.loc[merged_stops[\"trip_id\"] == longest_trip_id]\n",
    "    distinct_stops = distinct_stops.sort_values([\"stop_sequence\"])\n",
    "    distinct_stops = distinct_stops.reset_index()\n",
    "    \n",
    "    return distinct_stops"
   ]
  },
  {
   "cell_type": "markdown",
   "id": "b2d25d8a",
   "metadata": {},
   "source": [
    "### Plot the path and stops for this specific line"
   ]
  },
  {
   "cell_type": "code",
   "execution_count": null,
   "id": "86a87d9c",
   "metadata": {
    "scrolled": true
   },
   "outputs": [],
   "source": [
    "stops_coords = distinct_stops[\"geometry_y\"]\n",
    "points = []\n",
    "\n",
    "for sc in stops_coords:\n",
    "    points.append(Point(sc))\n",
    "\n",
    "xs = [point.x for point in points]\n",
    "ys = [point.y for point in points]"
   ]
  },
  {
   "cell_type": "code",
   "execution_count": null,
   "id": "dc6aa73c",
   "metadata": {},
   "outputs": [],
   "source": [
    "plt.scatter(xs, ys, color=\"red\", s=1)\n",
    "plt.show()"
   ]
  },
  {
   "cell_type": "code",
   "execution_count": null,
   "id": "5ef30afc",
   "metadata": {
    "scrolled": true
   },
   "outputs": [],
   "source": [
    "plt.plot(xs, ys, color='red')    \n",
    "plt.show()"
   ]
  },
  {
   "cell_type": "markdown",
   "id": "294b36da",
   "metadata": {},
   "source": [
    "When we plot the whole path of the line, it confirms that the order of stops doesn't suit."
   ]
  },
  {
   "cell_type": "markdown",
   "id": "8e705eea",
   "metadata": {},
   "source": [
    "### Plot all the lines based on route type"
   ]
  },
  {
   "cell_type": "code",
   "execution_count": null,
   "id": "5e5227e1",
   "metadata": {},
   "outputs": [],
   "source": [
    "# In Lyon GTFS: Tram = 0, Subway = 1, Bus = 3\n",
    "tram_id = 0\n",
    "subway_id = 1\n",
    "bus_id = 3\n",
    "\n",
    "for index, route in routes.iterrows():\n",
    "    \n",
    "    route_type = route[\"route_type\"]\n",
    "    route_id = route[\"route_id\"]\n",
    "    \n",
    "    if route_type == 1:\n",
    "        ftrips = trips.loc[trips[\"route_id\"] == route_id]\n",
    "        merged_data = ftrips.merge(stop_times, on='trip_id').merge(stops, on='stop_id')\n",
    "\n",
    "        distinct_stops = getLongestTripStops(route_id)\n",
    "\n",
    "        stops_coords = distinct_stops[\"geometry_y\"]\n",
    "        points = []\n",
    "\n",
    "        for sc in stops_coords:\n",
    "            points.append(Point(sc))\n",
    "\n",
    "        xs = [point.x for point in points]\n",
    "        ys = [point.y for point in points]\n",
    "\n",
    "        plt.plot(xs, ys)\n",
    "        \n",
    "plt.show()"
   ]
  },
  {
   "cell_type": "code",
   "execution_count": null,
   "id": "affa47e3",
   "metadata": {},
   "outputs": [],
   "source": []
  }
 ],
 "metadata": {
  "kernelspec": {
   "display_name": "Python 3 (ipykernel)",
   "language": "python",
   "name": "python3"
  },
  "language_info": {
   "codemirror_mode": {
    "name": "ipython",
    "version": 3
   },
   "file_extension": ".py",
   "mimetype": "text/x-python",
   "name": "python",
   "nbconvert_exporter": "python",
   "pygments_lexer": "ipython3",
   "version": "3.10.6"
  }
 },
 "nbformat": 4,
 "nbformat_minor": 5
}
