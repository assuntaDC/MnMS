{
 "cells": [
  {
   "cell_type": "markdown",
   "id": "48eef46d",
   "metadata": {},
   "source": [
    "# MnMS : Creation of a Public Transport line"
   ]
  },
  {
   "cell_type": "markdown",
   "id": "e7860e01",
   "metadata": {},
   "source": [
    "# 1. From scratch"
   ]
  },
  {
   "cell_type": "markdown",
   "id": "e63ee5b2",
   "metadata": {},
   "source": [
    "## 1. The Mobility Services"
   ]
  },
  {
   "cell_type": "markdown",
   "id": "8464e44c",
   "metadata": {},
   "source": [
    "### Add a \"BUS\" Mobility Service"
   ]
  },
  {
   "cell_type": "markdown",
   "id": "40a5cd94",
   "metadata": {},
   "source": [
    "The name of the \"BUS\" Mobility Service will be **'B0'**."
   ]
  },
  {
   "cell_type": "code",
   "execution_count": 6,
   "id": "a732f244",
   "metadata": {},
   "outputs": [],
   "source": [
    "from mnms.mobility_service.public_transport import PublicTransportMobilityService\n",
    "\n",
    "# register_stop(sid, lid, relative_position)\n",
    "# sid: id of the stop created you want to give\n",
    "# lid: id of the link where the stop should be\n",
    "# relative_position: position on the link, should be between 0 and 1\n",
    "\n",
    "# West to East bus stops\n",
    "roads.register_stop('S_WE_0', 'WEST_2_2', 0.5)\n",
    "roads.register_stop('S_WE_1', '2_7', 0.5)\n",
    "roads.register_stop('S_WE_2', '7_12', 0.5)\n",
    "roads.register_stop('S_WE_3', '12_17', 0.5)\n",
    "roads.register_stop('S_WE_4', '17_22', 0.5)\n",
    "roads.register_stop('S_WE_5', '22_EAST_2', 0.5)\n",
    "\n",
    "# North to South bus stops\n",
    "roads.register_stop('S_NS_0', 'NORTH_2_14', 0.5)\n",
    "roads.register_stop('S_NS_1', '14_13', 0.5)\n",
    "roads.register_stop('S_NS_2', '13_12', 0.5)\n",
    "roads.register_stop('S_NS_3', '12_11', 0.5)\n",
    "roads.register_stop('S_NS_4', '11_10', 0.5)\n",
    "roads.register_stop('S_NS_5', '10_SOUTH_2', 0.5)\n",
    "\n",
    "bus_service = PublicTransportMobilityService('B0')\n"
   ]
  },
  {
   "cell_type": "markdown",
   "id": "bc3d7372",
   "metadata": {},
   "source": [
    "### Create the \"BUS\" Layer"
   ]
  },
  {
   "cell_type": "markdown",
   "id": "96ef3021",
   "metadata": {},
   "source": [
    "The **'BUS'** Layer will contain the \"B0\" mobility service.\n"
   ]
  },
  {
   "cell_type": "code",
   "execution_count": 7,
   "id": "fa4f45e9",
   "metadata": {},
   "outputs": [],
   "source": [
    "from mnms.graph.layers import PublicTransportLayer\n",
    "from mnms.vehicles.veh_type import Bus\n",
    "from mnms.time import TimeTable, Dt\n",
    "\n",
    "# default_speed: 30\n",
    "bus_layer = PublicTransportLayer(roads, 'BUS', Bus, 30, services=[bus_service])\n",
    "\n",
    "# create_line(lid, stops, sections, timetable)\n",
    "# lid: id of the line created you want to give\n",
    "# stops: list containing the stops of the line\n",
    "# sections: list containing sublists where each sublist contains two links, the list is used to connect the stops\n",
    "#           between them. Please see example below.\n",
    "# timetable: timetable of the line\n",
    "\n",
    "# create_table_freq(start, stop, dt)\n",
    "# start: start time (first departure)\n",
    "# end: end time (last departure)\n",
    "# dt: frequency, unit (minutes/seconds) can be specified\n",
    "\n",
    "# Central bus line West to East\n",
    "bus_layer.create_line('L_WE',\n",
    "                    ['S_WE_0', 'S_WE_1', 'S_WE_2', 'S_WE_3', 'S_WE_4', 'S_WE_5'],\n",
    "                    [['WEST_2_2', '2_7'], ['2_7','7_12'], ['7_12', '12_17'], ['12_17', '17_22'], ['17_22', '22_EAST_2']],\n",
    "                    TimeTable.create_table_freq('08:00:00', '12:00:00', Dt(minutes=1)))\n",
    "\n",
    "# Central bus line North to South\n",
    "bus_layer.create_line('L_NS',\n",
    "                    ['S_NS_0', 'S_NS_1', 'S_NS_2', 'S_NS_3', 'S_NS_4', 'S_NS_5'],\n",
    "                    [['NORTH_2_14', '14_13'], ['14_13', '13_12'], ['13_12', '12_11'], ['12_11', '11_10'], ['11_10', '10_SOUTH_2']],\n",
    "                    TimeTable.create_table_freq('08:00:00', '12:00:00', Dt(minutes=1)))"
   ]
  },
  {
   "cell_type": "markdown",
   "id": "9922eb25",
   "metadata": {},
   "source": [
    "## 2. The Multilayer graph"
   ]
  },
  {
   "cell_type": "markdown",
   "id": "2657d4e6",
   "metadata": {},
   "source": [
    "### Create an OD Layer"
   ]
  },
  {
   "cell_type": "code",
   "execution_count": 8,
   "id": "9f3dab66",
   "metadata": {
    "scrolled": true
   },
   "outputs": [],
   "source": [
    "from mnms.generation.layers import _generate_matching_origin_destination_layer\n",
    "odlayer = _generate_matching_origin_destination_layer(roads)"
   ]
  },
  {
   "cell_type": "markdown",
   "id": "8765f1b1",
   "metadata": {},
   "source": [
    "### Create a Multi Layer Graph"
   ]
  },
  {
   "cell_type": "markdown",
   "id": "0a65a618",
   "metadata": {},
   "source": [
    "The **\"Transit Link\"** is used to connect a layer to another one."
   ]
  },
  {
   "cell_type": "code",
   "execution_count": 9,
   "id": "79809b3b",
   "metadata": {},
   "outputs": [],
   "source": [
    "from mnms.graph.layers import MultiLayerGraph\n",
    "\n",
    "# MultiLayerGraph(layers, odlayer, connection_distance)\n",
    "mlgraph = MultiLayerGraph([car_layer, bus_layer], odlayer, 1e-5)\n",
    "\n",
    "# connect_layers(lid, upstream, downstream, length, costs)\n",
    "# lid: id of the layer connection (or transit link) created you want to give\n",
    "# upstream: id of node from upstream layer\n",
    "# downstream: id of node from downstream layer\n",
    "# length: length of the transit link\n",
    "# costs: dict with the costs of the transit link\n",
    "\n",
    "mlgraph.connect_layers(\"TL1\", \"CAR_WEST_2\", \"L_WE_S_WE_0\", 5, {})\n",
    "mlgraph.connect_layers(\"TL2\", \"CAR_2\", \"L_WE_S_WE_0\", 5, {})\n",
    "\n",
    "mlgraph.connect_layers(\"TL3\", \"CAR_22\", \"L_WE_S_WE_5\", 5, {})\n",
    "mlgraph.connect_layers(\"TL4\", \"CAR_EAST_2\", \"L_WE_S_WE_5\", 5, {})\n",
    "\n",
    "mlgraph.connect_layers(\"TL5\", \"CAR_NORTH_2\", \"L_NS_S_NS_0\", 5, {})\n",
    "mlgraph.connect_layers(\"TL6\", \"CAR_14\", \"L_NS_S_NS_0\", 5, {})\n",
    "\n",
    "mlgraph.connect_layers(\"TL7\", \"CAR_10\", \"L_NS_S_NS_5\", 5, {})\n",
    "mlgraph.connect_layers(\"TL8\", \"CAR_SOUTH_2\", \"L_NS_S_NS_5\", 5, {})\n",
    "\n",
    "mlgraph.connect_layers(\"TL9\", \"CAR_12\", \"L_WE_S_WE_2\", 5, {})\n",
    "mlgraph.connect_layers(\"TL10\", \"CAR_12\", \"L_WE_S_WE_3\", 5, {})\n",
    "mlgraph.connect_layers(\"TL11\", \"CAR_12\", \"L_NS_S_NS_2\", 5, {})\n",
    "mlgraph.connect_layers(\"TL12\", \"CAR_12\", \"L_NS_S_NS_3\", 5, {})"
   ]
  },
  {
   "cell_type": "markdown",
   "id": "4416d8e1",
   "metadata": {},
   "source": [
    "# 2. From an existing network"
   ]
  },
  {
   "cell_type": "markdown",
   "id": "ce0e2cc7",
   "metadata": {},
   "source": [
    "## 1. Global Structure (recap)"
   ]
  },
  {
   "cell_type": "markdown",
   "id": "004e8b1a",
   "metadata": {},
   "source": [
    "Below is a recap of the global structure of the JSON Network file, for more information please check out the notebook TutorialJsonNetwork."
   ]
  },
  {
   "cell_type": "markdown",
   "id": "17eb1616",
   "metadata": {},
   "source": [
    "The Json network file contains two main parts:\n",
    "\n",
    "- The physical/geometrical part, ROADS, which contains a list of nodes NODES, a list of stops STOPS, a list of sections SECTIONS and a list of zones ZONES\n",
    "\n",
    "- The topological part, LAYERS, which contains the different mobility layers (CAR, BUS, TRAM, METRO etc). We can distinguish two different structures, one for the mobility service CAR and another one for the mobility service PT (Public Transportation) :\n",
    "    - The LAYER CAR\n",
    "    - The LAYER PT\n",
    "    \n",
    "- The general structure is presented below :"
   ]
  },
  {
   "cell_type": "code",
   "execution_count": 1,
   "id": "82bb5c9f",
   "metadata": {},
   "outputs": [
    {
     "data": {
      "text/plain": [
       "{'ROADS': {'NODES': {}, 'STOPS': {}, 'SECTIONS': {}, 'ZONES': {}},\n",
       " 'LAYERS': [{}, {}, {}, {}]}"
      ]
     },
     "execution_count": 1,
     "metadata": {},
     "output_type": "execute_result"
    }
   ],
   "source": [
    "{\n",
    "    \"ROADS\": {\n",
    "        \"NODES\": {},\n",
    "        \"STOPS\": {},\n",
    "        \"SECTIONS\": {},\n",
    "        \"ZONES\": {}\n",
    "    },\n",
    "    \n",
    "    \"LAYERS\": [\n",
    "        {},\n",
    "        {},\n",
    "        {},\n",
    "        {}\n",
    "    ]\n",
    "    \n",
    "}"
   ]
  },
  {
   "cell_type": "markdown",
   "id": "0c14cb9f",
   "metadata": {},
   "source": [
    "## 2. Amsterdam example"
   ]
  },
  {
   "cell_type": "markdown",
   "id": "1de10d03",
   "metadata": {},
   "source": [
    "### 1. Add the Nodes"
   ]
  },
  {
   "cell_type": "markdown",
   "id": "334e1ad1",
   "metadata": {},
   "source": [
    "Add the Nodes in \"ROADS\" > \"NODES\""
   ]
  },
  {
   "cell_type": "code",
   "execution_count": 6,
   "id": "ddbc758e",
   "metadata": {},
   "outputs": [
    {
     "data": {
      "text/plain": [
       "{'Tram_exit_1': {'id': 'Tram_exit_1',\n",
       "  'position': [621014.0199326351, 5801555.23821623]},\n",
       " 'Tram_entry_1': {'id': 'Tram_entry_1',\n",
       "  'position': [631637.3340760886, 5802779.135158912]}}"
      ]
     },
     "execution_count": 6,
     "metadata": {},
     "output_type": "execute_result"
    }
   ],
   "source": [
    "{\n",
    "    \"Tram_exit_1\": {\n",
    "        \"id\": \"Tram_exit_1\",\n",
    "        \"position\": [\n",
    "            621014.0199326351,\n",
    "            5801555.23821623\n",
    "        ]\n",
    "    },\n",
    "    \n",
    "    \"Tram_entry_1\": {\n",
    "        \"id\": \"Tram_entry_1\",\n",
    "        \"position\": [\n",
    "            631637.3340760886,\n",
    "            5802779.135158912\n",
    "        ]\n",
    "    },\n",
    "}"
   ]
  },
  {
   "cell_type": "markdown",
   "id": "be6644fb",
   "metadata": {},
   "source": [
    "### 2. Add the Stops"
   ]
  },
  {
   "cell_type": "markdown",
   "id": "6eee0832",
   "metadata": {},
   "source": [
    "Add the Stops in \"ROADS\" > \"STOPS\""
   ]
  },
  {
   "cell_type": "code",
   "execution_count": 5,
   "id": "af5594b8",
   "metadata": {},
   "outputs": [
    {
     "data": {
      "text/plain": [
       "{'Matterhorn': {'id': 'Matterhorn',\n",
       "  'section': 'Tram_1_OE',\n",
       "  'relative_position': 0.99,\n",
       "  'absolute_position': [621014.0199326351, 5801555.23821623]},\n",
       " 'Matterhorn2': {'id': 'Matterhorn2',\n",
       "  'section': 'Tram_1_EO',\n",
       "  'relative_position': 0.01,\n",
       "  'absolute_position': [621014.0199326351, 5801755.23821623]},\n",
       " 'Muiderpoorstation': {'id': 'Muiderpoorstation',\n",
       "  'section': 'Tram_1_OE',\n",
       "  'relative_position': 0.01,\n",
       "  'absolute_position': [631637.3340760886, 5802779.135158912]},\n",
       " 'Muiderpoorstation2': {'id': 'Muiderpoorstation2',\n",
       "  'section': 'Tram_1_EO',\n",
       "  'relative_position': 0.99,\n",
       "  'absolute_position': [631637.3340760886, 5802979.135158912]}}"
      ]
     },
     "execution_count": 5,
     "metadata": {},
     "output_type": "execute_result"
    }
   ],
   "source": [
    "{\n",
    "    \"Matterhorn\": {\n",
    "        \"id\": \"Matterhorn\",\n",
    "        \"section\": \"Tram_1_OE\",\n",
    "        \"relative_position\": 0.99,\n",
    "        \"absolute_position\": [\n",
    "         621014.0199326351,\n",
    "         5801555.23821623\n",
    "        ]\n",
    "    },\n",
    "\n",
    "    \"Matterhorn2\": {\n",
    "        \"id\": \"Matterhorn2\",\n",
    "        \"section\": \"Tram_1_EO\",\n",
    "        \"relative_position\": 0.01,\n",
    "        \"absolute_position\": [\n",
    "         621014.0199326351,\n",
    "         5801755.23821623\n",
    "        ]\n",
    "    },\n",
    "\n",
    "    \"Muiderpoorstation\": {\n",
    "        \"id\": \"Muiderpoorstation\",\n",
    "        \"section\": \"Tram_1_OE\",\n",
    "        \"relative_position\": 0.01,\n",
    "        \"absolute_position\": [\n",
    "         631637.3340760886,\n",
    "         5802779.135158912\n",
    "        ]\n",
    "    },\n",
    "\n",
    "    \"Muiderpoorstation2\": {\n",
    "        \"id\": \"Muiderpoorstation2\",\n",
    "        \"section\": \"Tram_1_EO\",\n",
    "        \"relative_position\": 0.99,\n",
    "        \"absolute_position\": [\n",
    "         631637.3340760886,\n",
    "         5802979.135158912\n",
    "        ]\n",
    "    },\n",
    "}"
   ]
  },
  {
   "cell_type": "markdown",
   "id": "fa3f7039",
   "metadata": {},
   "source": [
    "### 3. Add the Sections"
   ]
  },
  {
   "cell_type": "markdown",
   "id": "51813a72",
   "metadata": {},
   "source": [
    "Add the Sections in \"ROADS\" > \"SECTIONS\""
   ]
  },
  {
   "cell_type": "code",
   "execution_count": null,
   "id": "117ec84a",
   "metadata": {},
   "outputs": [],
   "source": [
    "{\n",
    "    \"Tram_1_EO\": {\n",
    "        \"id\": \"Tram_1_EO\",\n",
    "        \"upstream\": \"Tram_exit_1\",\n",
    "        \"downstream\": \"Tram_entry_1\",\n",
    "        \"length\": 12200.00,\n",
    "        \"zone\": \"RES\"\n",
    "    },\n",
    "    \n",
    "    \"Tram_1_OE\": {\n",
    "        \"id\": \"Tram_1_OE\",\n",
    "        \"upstream\": \"Tram_entry_1\",\n",
    "        \"downstream\": \"Tram_exit_1\",\n",
    "        \"length\": 12200.00,\n",
    "        \"zone\": \"RES\"\n",
    "    },\n",
    "}"
   ]
  },
  {
   "cell_type": "markdown",
   "id": "f7fa5522",
   "metadata": {},
   "source": [
    "### 4. Add the Zones"
   ]
  },
  {
   "cell_type": "markdown",
   "id": "f704c288",
   "metadata": {},
   "source": [
    "Add the Sections ID in \"ROADS\" > \"ZONES\" > \"RES\" > \"sections\" where \"RES\" is the Reservoir where the Sections/Links of your Public Transport should be."
   ]
  },
  {
   "cell_type": "code",
   "execution_count": null,
   "id": "f0bb3a76",
   "metadata": {},
   "outputs": [],
   "source": [
    "{\n",
    "    \"ZONES\": {\n",
    "        \"RES\": {\n",
    "            \"id\": \"RES\",\n",
    "            \"sections\": [\n",
    "                \"Tram_1_EO\",\n",
    "                \"Tram_1_OE\",\n",
    "            ]\n",
    "        }\n",
    "    }\n",
    "}"
   ]
  },
  {
   "cell_type": "markdown",
   "id": "a96047bf",
   "metadata": {},
   "source": [
    "### 5. Add the Layer"
   ]
  },
  {
   "cell_type": "code",
   "execution_count": 7,
   "id": "afeba813",
   "metadata": {},
   "outputs": [
    {
     "ename": "SyntaxError",
     "evalue": "closing parenthesis '}' does not match opening parenthesis '[' on line 7 (3700755862.py, line 53)",
     "output_type": "error",
     "traceback": [
      "\u001b[0;36m  Cell \u001b[0;32mIn [7], line 53\u001b[0;36m\u001b[0m\n\u001b[0;31m    }\u001b[0m\n\u001b[0m    ^\u001b[0m\n\u001b[0;31mSyntaxError\u001b[0m\u001b[0;31m:\u001b[0m closing parenthesis '}' does not match opening parenthesis '[' on line 7\n"
     ]
    }
   ],
   "source": [
    "{\n",
    "    \"ID\": \"TRAMLayer\",\n",
    "    \"TYPE\": \"mnms.graph.layers.PublicTransportLayer\",\n",
    "    \"VEH_TYPE\": \"mnms.vehicles.veh_type.Tram\",\n",
    "    \"DEFAULT_SPEED\": 40.0,\n",
    "    \"SERVICES\": [],\n",
    "    \"LINES\": [\n",
    "     {\n",
    "          \"ID\": \"1_EO\",\n",
    "          \"STOPS\": [\n",
    "               \"Matterhorn2\",\n",
    "               \"Muiderpoorstation2\"\n",
    "          ],\n",
    "          \"SECTIONS\": [\n",
    "           [\n",
    "                \"Tram_1_EO\"\n",
    "           ]\n",
    "          ],\n",
    "         \"TIMETABLE\": [\n",
    "               \"05:00:00.00\",\n",
    "               \"05:03:00.00\",\n",
    "               \"05:06:00.00\",\n",
    "               \"05:09:00.00\",\n",
    "               \"05:12:00.00\",\n",
    "                \"...\"\n",
    "         ],\n",
    "         \"BIDIRECTIONAL\": false\n",
    "     },\n",
    "    {\n",
    "          \"ID\": \"1_OE\",\n",
    "          \"STOPS\": [\n",
    "                \"Muiderpoorstation\",\n",
    "                \"Matterhorn\"\n",
    "          ],\n",
    "          \"SECTIONS\": [\n",
    "           [\n",
    "                \"Tram_1_OE\"\n",
    "           ]\n",
    "          ],\n",
    "         \"TIMETABLE\": [\n",
    "               \"05:00:00.00\",\n",
    "               \"05:03:00.00\",\n",
    "               \"05:06:00.00\",\n",
    "               \"05:09:00.00\",\n",
    "               \"05:12:00.00\",\n",
    "                \"...\"\n",
    "         ],\n",
    "         \"BIDIRECTIONAL\": false\n",
    "     },\n",
    "    \n",
    "}"
   ]
  },
  {
   "cell_type": "code",
   "execution_count": null,
   "id": "81d04ccf",
   "metadata": {},
   "outputs": [],
   "source": []
  }
 ],
 "metadata": {
  "kernelspec": {
   "display_name": "Python 3 (ipykernel)",
   "language": "python",
   "name": "python3"
  },
  "language_info": {
   "codemirror_mode": {
    "name": "ipython",
    "version": 3
   },
   "file_extension": ".py",
   "mimetype": "text/x-python",
   "name": "python",
   "nbconvert_exporter": "python",
   "pygments_lexer": "ipython3",
   "version": "3.10.9"
  }
 },
 "nbformat": 4,
 "nbformat_minor": 5
}
