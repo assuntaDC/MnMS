{
 "cells": [
  {
   "cell_type": "markdown",
   "id": "ff52eb72",
   "metadata": {},
   "source": [
    "# MnMS Tutorial: Simulation with a Real Network (Lyon 6)"
   ]
  },
  {
   "cell_type": "code",
   "execution_count": null,
   "id": "e43d9ac0",
   "metadata": {},
   "outputs": [],
   "source": [
    "import os\n",
    "import json"
   ]
  },
  {
   "cell_type": "code",
   "execution_count": null,
   "id": "0dd1fb57",
   "metadata": {},
   "outputs": [],
   "source": [
    "from matplotlib import pyplot as plt"
   ]
  },
  {
   "cell_type": "code",
   "execution_count": null,
   "id": "d1cb7466",
   "metadata": {},
   "outputs": [],
   "source": [
    "from mnms.simulation import Supervisor\n",
    "from mnms.demand import CSVDemandManager\n",
    "from mnms.flow.MFD import Reservoir, MFDFlowMotor\n",
    "from mnms.time import Time, Dt\n",
    "from mnms.io.graph import load_graph\n",
    "from mnms.travel_decision.logit import LogitDecisionModel\n",
    "from mnms.tools.observer import CSVUserObserver, CSVVehicleObserver\n",
    "from mnms.generation.layers import generate_matching_origin_destination_layer\n",
    "from mnms.generation.demand import generate_random_demand\n",
    "from mnms.mobility_service.personal_vehicle import PersonalMobilityService"
   ]
  },
  {
   "cell_type": "markdown",
   "id": "92ae34f7",
   "metadata": {},
   "source": [
    "### MFD Speed function"
   ]
  },
  {
   "cell_type": "code",
   "execution_count": null,
   "id": "285663e2",
   "metadata": {},
   "outputs": [],
   "source": [
    "def calculate_V_MFD(acc):\n",
    "    V = 0  # data from fit dsty\n",
    "    N = acc[\"CAR\"]\n",
    "    if N < 18000:\n",
    "        V = 11.5-N*6/18000\n",
    "    elif N < 55000:\n",
    "        V = 11.5-6 - (N-18000)*4.5/(55000-18000)\n",
    "    elif N < 80000:\n",
    "        V = 11.5-6-4.5-(N-55000)*1/(80000-55000)\n",
    "    V = max(V, 0.001)  # min speed to avoid gridlock\n",
    "    return {\"CAR\": V}"
   ]
  },
  {
   "cell_type": "markdown",
   "id": "41cec444",
   "metadata": {},
   "source": [
    "### Load Lyon 6 JSON MnMS Network file"
   ]
  },
  {
   "cell_type": "code",
   "execution_count": null,
   "id": "24c4bdfe",
   "metadata": {},
   "outputs": [],
   "source": [
    "mlgraph = load_graph(\"lyon6.json\")"
   ]
  },
  {
   "cell_type": "code",
   "execution_count": null,
   "id": "29adbaeb",
   "metadata": {
    "scrolled": true
   },
   "outputs": [],
   "source": [
    "roads = mlgraph.roads\n",
    "layers = mlgraph.layers"
   ]
  },
  {
   "cell_type": "markdown",
   "id": "45999592",
   "metadata": {},
   "source": [
    "### Plot nodes"
   ]
  },
  {
   "cell_type": "code",
   "execution_count": null,
   "id": "42cd762b",
   "metadata": {},
   "outputs": [],
   "source": [
    "nodes = roads.nodes"
   ]
  },
  {
   "cell_type": "code",
   "execution_count": null,
   "id": "2bf17568",
   "metadata": {},
   "outputs": [],
   "source": [
    "fig_nodes = plt.figure(\"Nodes\", figsize=(20,12))\n",
    "fig_nodes.suptitle(\"Nodes\")\n",
    "for id, node in nodes.items():\n",
    "    x = float(node.position[0])\n",
    "    y = float(node.position[1])\n",
    "    plt.scatter(x, y, color=\"blue\", s=1)"
   ]
  },
  {
   "cell_type": "markdown",
   "id": "7f1e688f",
   "metadata": {},
   "source": [
    "### Plot sections"
   ]
  },
  {
   "cell_type": "code",
   "execution_count": null,
   "id": "2302e177",
   "metadata": {},
   "outputs": [],
   "source": [
    "sections = roads.sections"
   ]
  },
  {
   "cell_type": "code",
   "execution_count": null,
   "id": "7bd86a02",
   "metadata": {},
   "outputs": [],
   "source": [
    "fig_sections = plt.figure(\"Sections\", figsize=(20,12))\n",
    "fig_sections.suptitle(\"Sections\")\n",
    "for id, section in sections.items():\n",
    "    upnode = section.upstream\n",
    "    downnode = section.downstream\n",
    "\n",
    "    for id, node in nodes.items():\n",
    "        if node.id == upnode:\n",
    "            ux = float(node.position[0])\n",
    "            uy = float(node.position[1])\n",
    "        if node.id == downnode:\n",
    "            dx = float(node.position[0])\n",
    "            dy = float(node.position[1])\n",
    "\n",
    "    plt.plot([ux, dx], [uy, dy])"
   ]
  },
  {
   "cell_type": "markdown",
   "id": "8caece5e",
   "metadata": {},
   "source": [
    "### ODLayer"
   ]
  },
  {
   "cell_type": "code",
   "execution_count": null,
   "id": "3ea22c03",
   "metadata": {},
   "outputs": [],
   "source": [
    "odlayer = generate_matching_origin_destination_layer(roads)\n",
    "mlgraph.add_origin_destination_layer(odlayer)"
   ]
  },
  {
   "cell_type": "code",
   "execution_count": null,
   "id": "9f8f34c7",
   "metadata": {},
   "outputs": [],
   "source": [
    "mlgraph.connect_origin_destination_layer(1e-3)"
   ]
  },
  {
   "cell_type": "markdown",
   "id": "bf895a5f",
   "metadata": {},
   "source": [
    "### Mobility Service CAR"
   ]
  },
  {
   "cell_type": "code",
   "execution_count": null,
   "id": "9d9d6682",
   "metadata": {},
   "outputs": [],
   "source": [
    "personal_car = PersonalMobilityService()\n",
    "personal_car.attach_vehicle_observer(CSVVehicleObserver(\"veh.csv\"))\n",
    "layers[\"CAR\"].add_mobility_service(personal_car)"
   ]
  },
  {
   "cell_type": "markdown",
   "id": "7eedd2e3",
   "metadata": {},
   "source": [
    "### Demand generation"
   ]
  },
  {
   "cell_type": "code",
   "execution_count": null,
   "id": "ff035852",
   "metadata": {},
   "outputs": [],
   "source": [
    "demand = generate_random_demand(mlgraph, 100, min_cost=300)"
   ]
  },
  {
   "cell_type": "code",
   "execution_count": null,
   "id": "b79eba3a",
   "metadata": {},
   "outputs": [],
   "source": [
    "demand.add_user_observer(CSVUserObserver(\"user.csv\"), user_ids=\"all\")"
   ]
  },
  {
   "cell_type": "markdown",
   "id": "f166abdb",
   "metadata": {},
   "source": [
    "### Flow Motor"
   ]
  },
  {
   "cell_type": "code",
   "execution_count": null,
   "id": "3fa4eb1d",
   "metadata": {},
   "outputs": [],
   "source": [
    "flow_motor = MFDFlowMotor(\"flow.csv\")\n",
    "flow_motor.add_reservoir(Reservoir(mlgraph.roads.zones[\"RES\"], [\"CAR\"], calculate_V_MFD))"
   ]
  },
  {
   "cell_type": "markdown",
   "id": "1494c3d5",
   "metadata": {},
   "source": [
    "### Travel Decision"
   ]
  },
  {
   "cell_type": "code",
   "execution_count": null,
   "id": "6bcd72dc",
   "metadata": {},
   "outputs": [],
   "source": [
    "travel_decision = LogitDecisionModel(mlgraph, \"path.csv\")"
   ]
  },
  {
   "cell_type": "markdown",
   "id": "59d90430",
   "metadata": {},
   "source": [
    "### Supervisor"
   ]
  },
  {
   "cell_type": "code",
   "execution_count": null,
   "id": "67056ca9",
   "metadata": {},
   "outputs": [],
   "source": [
    "supervisor = Supervisor(graph=mlgraph,\n",
    "                        flow_motor=flow_motor,\n",
    "                        demand=demand,\n",
    "                        decision_model=travel_decision,\n",
    "                        outfile=\"travel_time_link.csv\")"
   ]
  },
  {
   "cell_type": "markdown",
   "id": "d6e1ad75",
   "metadata": {},
   "source": [
    "### Simulation Run"
   ]
  },
  {
   "cell_type": "code",
   "execution_count": null,
   "id": "43e91679",
   "metadata": {},
   "outputs": [],
   "source": [
    "start_time = \"07:00:00\"\n",
    "end_time = \"18:00:00\"\n",
    "flow_dt = 1   #minutes\n",
    "affectation_factor = 10   #minutes"
   ]
  },
  {
   "cell_type": "code",
   "execution_count": null,
   "id": "43e596da",
   "metadata": {},
   "outputs": [],
   "source": [
    "supervisor.run(Time(start_time), Time(end_time), Dt(minutes=flow_dt), affectation_factor)"
   ]
  }
 ],
 "metadata": {
  "kernelspec": {
   "display_name": "Python 3 (ipykernel)",
   "language": "python",
   "name": "python3"
  },
  "language_info": {
   "codemirror_mode": {
    "name": "ipython",
    "version": 3
   },
   "file_extension": ".py",
   "mimetype": "text/x-python",
   "name": "python",
   "nbconvert_exporter": "python",
   "pygments_lexer": "ipython3",
   "version": "3.10.6"
  }
 },
 "nbformat": 4,
 "nbformat_minor": 5
}
