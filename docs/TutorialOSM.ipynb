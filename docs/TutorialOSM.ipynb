{
 "cells": [
  {
   "cell_type": "markdown",
   "id": "c8340d4d",
   "metadata": {},
   "source": [
    "# MnMS Tutorial: Import Network from OpenStreetMap"
   ]
  },
  {
   "cell_type": "code",
   "execution_count": null,
   "id": "9390788f",
   "metadata": {},
   "outputs": [],
   "source": [
    "import os\n",
    "import json\n",
    "import re"
   ]
  },
  {
   "cell_type": "code",
   "execution_count": null,
   "id": "cc56ddc1-abb8-4872-b644-d09312dfb996",
   "metadata": {},
   "outputs": [],
   "source": [
    "from collections import defaultdict\n",
    "from typing import Dict, List, Optional"
   ]
  },
  {
   "cell_type": "markdown",
   "id": "e62c239a",
   "metadata": {},
   "source": [
    "Note: if osmnx is not installed:\n",
    "run \"pip install osmnx\" in a terminal"
   ]
  },
  {
   "cell_type": "code",
   "execution_count": null,
   "id": "83d4ee65-ea45-41ae-9a10-c0980fbf52b9",
   "metadata": {},
   "outputs": [],
   "source": [
    "import pandas as pd\n",
    "import numpy as np\n",
    "import osmnx as ox"
   ]
  },
  {
   "cell_type": "code",
   "execution_count": null,
   "id": "7ef81ebf",
   "metadata": {},
   "outputs": [],
   "source": [
    "from matplotlib import pyplot as plt\n",
    "from statistics import mean, median"
   ]
  },
  {
   "cell_type": "code",
   "execution_count": null,
   "id": "6f800ba5-a9da-46d0-ad89-74dbaa3aa9a6",
   "metadata": {},
   "outputs": [],
   "source": [
    "from mnms.graph.road import RoadDescriptor\n",
    "from mnms.graph.layers import MultiLayerGraph, CarLayer\n",
    "from mnms.graph.zone import construct_zone_from_contour\n",
    "from mnms.generation.layers import get_bounding_box\n",
    "from mnms.io.graph import save_graph\n",
    "from mnms.vehicles.veh_type import Bus, Metro, Tram"
   ]
  },
  {
   "cell_type": "code",
   "execution_count": null,
   "id": "2456b6b0-bd84-4587-9a6b-de8082723206",
   "metadata": {},
   "outputs": [],
   "source": [
    "from coordinates import wgs_to_utm"
   ]
  },
  {
   "cell_type": "code",
   "execution_count": null,
   "id": "1a6e1d33-6fc9-44c9-832f-36f52af27a82",
   "metadata": {},
   "outputs": [],
   "source": [
    "edges = dict()\n",
    "nodes = defaultdict(list)\n",
    "\n",
    "node_car = set()\n",
    "link_car = set()\n",
    "\n",
    "roads = RoadDescriptor()"
   ]
  },
  {
   "cell_type": "markdown",
   "id": "cdcbb485",
   "metadata": {},
   "source": [
    "### Import graph from OSM Query"
   ]
  },
  {
   "cell_type": "code",
   "execution_count": null,
   "id": "4e4f4d5f-965e-4943-a1b4-5dbf599fadd8",
   "metadata": {
    "scrolled": true
   },
   "outputs": [],
   "source": [
    "osm_query = \"Los Angeles, California\"\n",
    "osm_graph = ox.graph_from_place(osm_query, network_type=\"drive\")"
   ]
  },
  {
   "cell_type": "code",
   "execution_count": null,
   "id": "435c3ae3-9d54-43c1-ad71-009c82ef0d4b",
   "metadata": {},
   "outputs": [],
   "source": [
    "for iedge, edge in osm_graph.edges.items():\n",
    "    lid = re.sub(r'\\W+', '', str(edge[\"osmid\"]))\n",
    "    up_nid = iedge[0]\n",
    "    down_nid = iedge[1]\n",
    "    length = edge[\"length\"]\n",
    "\n",
    "    up_node = osm_graph.nodes[up_nid]\n",
    "    down_node = osm_graph.nodes[down_nid]\n",
    "\n",
    "    amont_utm = wgs_to_utm(up_node[\"y\"], up_node[\"x\"])\n",
    "    aval_utm = wgs_to_utm(down_node[\"y\"], down_node[\"x\"])\n",
    "\n",
    "    coords_amont = np.array(amont_utm)\n",
    "    coords_aval = np.array(aval_utm)\n",
    "\n",
    "    nodes[up_nid].append(coords_amont)\n",
    "    nodes[down_nid].append(coords_aval)\n",
    "\n",
    "    edges[lid] = {\"up\": up_nid, \"down\": down_nid, \"length\": length}\n",
    "\n",
    "    link_car.add(lid)\n",
    "    node_car.add(up_nid)\n",
    "    node_car.add(down_nid)"
   ]
  },
  {
   "cell_type": "code",
   "execution_count": null,
   "id": "466ffcd6-b7b7-44b3-9d00-93fe4f27e7bc",
   "metadata": {},
   "outputs": [],
   "source": [
    "nodes = {n: np.mean(pos, axis=0) for n, pos in nodes.items()}"
   ]
  },
  {
   "cell_type": "code",
   "execution_count": null,
   "id": "618c7470",
   "metadata": {},
   "outputs": [],
   "source": [
    "mono_res = \"RES\"\n",
    "\n",
    "for nid, pos in nodes.items():\n",
    "    roads.register_node(nid, pos)\n",
    "\n",
    "for eid, edata in edges.items():\n",
    "    roads.register_section(eid, edata['up'], edata['down'], edata['length'])\n",
    "\n",
    "if mono_res is None:\n",
    "    for zid, contour in zone_dict.items():\n",
    "        roads.add_zone(construct_zone_from_contour(roads, zid, contour))\n",
    "else:\n",
    "    bb = get_bounding_box(roads)\n",
    "    box = [[bb.xmin, bb.ymin], [bb.xmin, bb.ymax], [bb.xmax, bb.ymax], [bb.xmax, bb.ymin]]\n",
    "    roads.add_zone(construct_zone_from_contour(roads, mono_res, box))"
   ]
  },
  {
   "cell_type": "code",
   "execution_count": null,
   "id": "71f26a5a",
   "metadata": {},
   "outputs": [],
   "source": [
    "car_layer = CarLayer(roads)"
   ]
  },
  {
   "cell_type": "code",
   "execution_count": null,
   "id": "78f78fd3",
   "metadata": {},
   "outputs": [],
   "source": [
    "for n in node_car:\n",
    "    car_layer.create_node(str(n), n)\n",
    "\n",
    "for lid in link_car:\n",
    "    try:\n",
    "        car_layer.create_link(lid, str(edges[lid]['up']), str(edges[lid]['down']),\n",
    "                              {}, road_links=[lid])\n",
    "    except AssertionError:\n",
    "        print(f\"Skipping troncon: {lid}, nodes already connected\")"
   ]
  },
  {
   "cell_type": "code",
   "execution_count": null,
   "id": "8fd7f1d2",
   "metadata": {},
   "outputs": [],
   "source": [
    "mlgraph = MultiLayerGraph([car_layer])"
   ]
  },
  {
   "cell_type": "code",
   "execution_count": null,
   "id": "ed7c45ce",
   "metadata": {},
   "outputs": [],
   "source": [
    "save_graph(mlgraph, \"graph.json\", indent=1)"
   ]
  },
  {
   "cell_type": "code",
   "execution_count": null,
   "id": "f8f18e31",
   "metadata": {},
   "outputs": [],
   "source": [
    "json_file = open(\"graph.json\")\n",
    "network = json.load(json_file)\n",
    "json_file.close()"
   ]
  },
  {
   "cell_type": "code",
   "execution_count": null,
   "id": "13cad86e",
   "metadata": {},
   "outputs": [],
   "source": [
    "roads = network.get(\"ROADS\")\n",
    "layers = network.get(\"LAYERS\")"
   ]
  },
  {
   "cell_type": "markdown",
   "id": "3c9721c2",
   "metadata": {},
   "source": [
    "### Plot nodes"
   ]
  },
  {
   "cell_type": "code",
   "execution_count": null,
   "id": "954fda49",
   "metadata": {},
   "outputs": [],
   "source": [
    "nodes = roads.get(\"NODES\")\n",
    "\n",
    "fig_nodes = plt.figure(\"Nodes\", figsize=(20,12))\n",
    "fig_nodes.suptitle(\"Nodes\")\n",
    "for id, node in nodes.items():\n",
    "    x = float(node[\"position\"][0])\n",
    "    y = float(node[\"position\"][1])\n",
    "    plt.scatter(x, y, color=\"blue\", s=1)"
   ]
  },
  {
   "cell_type": "markdown",
   "id": "7e3ebb9b",
   "metadata": {},
   "source": [
    "### Plot sections"
   ]
  },
  {
   "cell_type": "code",
   "execution_count": null,
   "id": "e1cbea7e",
   "metadata": {},
   "outputs": [],
   "source": [
    "nodes = roads.get(\"NODES\")\n",
    "sections = roads.get(\"SECTIONS\")\n",
    "\n",
    "fig_sections = plt.figure(\"Sections\", figsize=(20,12))\n",
    "fig_sections.suptitle(\"Sections\")\n",
    "for id, section in sections.items():\n",
    "    upnode = section[\"upstream\"]\n",
    "    downnode = section[\"downstream\"]\n",
    "\n",
    "    for id, node in nodes.items():\n",
    "        if node[\"id\"] == upnode:\n",
    "            ux = float(node[\"position\"][0])\n",
    "            uy = float(node[\"position\"][1])\n",
    "        if node[\"id\"] == downnode:\n",
    "            dx = float(node[\"position\"][0])\n",
    "            dy = float(node[\"position\"][1])\n",
    "\n",
    "    plt.plot([ux, dx], [uy, dy])"
   ]
  },
  {
   "cell_type": "markdown",
   "id": "a7626224",
   "metadata": {},
   "source": [
    "## Analysis"
   ]
  },
  {
   "cell_type": "code",
   "execution_count": null,
   "id": "6aa59495",
   "metadata": {},
   "outputs": [],
   "source": [
    "stops = roads.get(\"STOPS\")\n",
    "zones = roads.get(\"ZONES\")"
   ]
  },
  {
   "cell_type": "markdown",
   "id": "e430238d",
   "metadata": {},
   "source": [
    "### General"
   ]
  },
  {
   "cell_type": "code",
   "execution_count": null,
   "id": "328a984d",
   "metadata": {},
   "outputs": [],
   "source": [
    "print(f\"Number of nodes : {len(nodes)}\")\n",
    "print(f\"Number of sections : {len(sections)}\")\n",
    "print(f\"Number of sections per zone : {len(sections) / len(zones)}\")"
   ]
  },
  {
   "cell_type": "markdown",
   "id": "c23732d2",
   "metadata": {},
   "source": [
    "### Sections"
   ]
  },
  {
   "cell_type": "code",
   "execution_count": null,
   "id": "a58bc3ba",
   "metadata": {},
   "outputs": [],
   "source": [
    "sections_length = []\n",
    "for id, section in sections.items():\n",
    "    sections_length.append(section[\"length\"])"
   ]
  },
  {
   "cell_type": "code",
   "execution_count": null,
   "id": "9b2f1f94",
   "metadata": {},
   "outputs": [],
   "source": [
    "print(f\"Min length of section : {min(sections_length)}\")\n",
    "print(f\"Max length of section : {max(sections_length)}\")\n",
    "print(f\"Mean length of section : {mean(sections_length)}\")\n",
    "print(f\"Median length of section : {median(sections_length)}\")\n",
    "\n",
    "print(f\"Connectivity index : {len(sections) / len(nodes)}\")"
   ]
  },
  {
   "cell_type": "markdown",
   "id": "3f16d154",
   "metadata": {},
   "source": [
    "### Centralities"
   ]
  },
  {
   "cell_type": "code",
   "execution_count": null,
   "id": "a36b65aa",
   "metadata": {},
   "outputs": [],
   "source": [
    "def compute_centralities(roads):\n",
    "    nodes = roads.get(\"NODES\")\n",
    "    sections = roads.get(\"SECTIONS\")\n",
    "    centralities = {}\n",
    "\n",
    "    for id, node in nodes.items():\n",
    "        id_node = node[\"id\"]\n",
    "        for id, section in sections.items():\n",
    "            upnode = section[\"upstream\"]\n",
    "            downnode = section[\"downstream\"]\n",
    "            if id_node == upnode:\n",
    "                centralities[id_node] = centralities.get(id_node, 0) + 1\n",
    "            if id_node == downnode:\n",
    "                centralities[id_node] = centralities.get(id_node, 0) + 1\n",
    "\n",
    "    return centralities"
   ]
  },
  {
   "cell_type": "code",
   "execution_count": null,
   "id": "9c60898a",
   "metadata": {},
   "outputs": [],
   "source": [
    "centralities = compute_centralities(roads)\n",
    "print(f\"Node with maximum centrality degree : {max(centralities, key=centralities.get)} = {max(centralities.values())}\")"
   ]
  },
  {
   "cell_type": "code",
   "execution_count": null,
   "id": "ce692cf0",
   "metadata": {},
   "outputs": [],
   "source": [
    "def visualize_centralities(nodes, centralities, max_degree):\n",
    "    xvalues = []\n",
    "    yvalues = []\n",
    "    dvalues = []\n",
    "\n",
    "    for idc, degree in centralities.items():\n",
    "        for idn, node in nodes.items():\n",
    "            if idn == idc:\n",
    "                node = nodes[idn]\n",
    "                xvalues.append(float(node[\"position\"][0]))\n",
    "                yvalues.append(float(node[\"position\"][1]))\n",
    "                dvalues.append(float(degree))\n",
    "\n",
    "    fig_centralities = plt.figure(\"Centralities\", figsize=(20,12))\n",
    "    fig_centralities.suptitle(\"Centralities\")\n",
    "    plt.scatter(x=xvalues, y=yvalues, c=dvalues, cmap=\"YlOrRd\", vmin=0, vmax=max_degree, s=1)"
   ]
  },
  {
   "cell_type": "code",
   "execution_count": null,
   "id": "a0c02c87",
   "metadata": {},
   "outputs": [],
   "source": [
    "visualize_centralities(nodes, centralities, max(centralities.values()))"
   ]
  },
  {
   "cell_type": "code",
   "execution_count": null,
   "id": "48f70573",
   "metadata": {},
   "outputs": [],
   "source": []
  }
 ],
 "metadata": {
  "kernelspec": {
   "display_name": "Python 3 (ipykernel)",
   "language": "python",
   "name": "python3"
  },
  "language_info": {
   "codemirror_mode": {
    "name": "ipython",
    "version": 3
   },
   "file_extension": ".py",
   "mimetype": "text/x-python",
   "name": "python",
   "nbconvert_exporter": "python",
   "pygments_lexer": "ipython3",
   "version": "3.10.9"
  }
 },
 "nbformat": 4,
 "nbformat_minor": 5
}
