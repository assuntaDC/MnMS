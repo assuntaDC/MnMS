{
 "cells": [
  {
   "cell_type": "markdown",
   "id": "a5f05673",
   "metadata": {},
   "source": [
    "# MnMS : Multimodal Network Modelling and Simulation"
   ]
  },
  {
   "cell_type": "markdown",
   "id": "de32cf77",
   "metadata": {},
   "source": [
    "## Create a grid of roads"
   ]
  },
  {
   "cell_type": "code",
   "execution_count": null,
   "id": "7f66983d",
   "metadata": {},
   "outputs": [],
   "source": [
    "import matplotlib.pyplot as plt\n",
    "\n",
    "from mnms.generation.roads import generate_manhattan_road\n",
    "from mnms.tools.render import draw_roads\n",
    "\n",
    "# generate_manhattan_passenger_car(n, link_length)\n",
    "# n : Number of point in x and y direction\n",
    "# link_length : the length of the links\n",
    "roads = generate_manhattan_road(5, 100)\n",
    "\n",
    "fig, ax = plt.subplots(figsize=(16, 9))\n",
    "draw_roads(ax, roads, linkwidth=4, nodesize=50)\n"
   ]
  },
  {
   "cell_type": "markdown",
   "id": "9e11014a",
   "metadata": {},
   "source": [
    "## Add a \"Personal car\" mobility service"
   ]
  },
  {
   "cell_type": "code",
   "execution_count": null,
   "id": "2c43b16d",
   "metadata": {},
   "outputs": [],
   "source": [
    "from mnms.generation.layers import generate_layer_from_roads\n",
    "from mnms.mobility_service.personal_vehicle import PersonalMobilityService\n",
    "\n",
    "\n",
    "car_service = PersonalMobilityService('perso')"
   ]
  },
  {
   "cell_type": "markdown",
   "id": "a99188af",
   "metadata": {},
   "source": [
    "## Add a \"uber\" mobility service"
   ]
  },
  {
   "cell_type": "code",
   "execution_count": null,
   "id": "237715cb",
   "metadata": {},
   "outputs": [],
   "source": [
    "from mnms.mobility_service.on_demand import OnDemandDepotMobilityService\n",
    "\n",
    "uber_service=OnDemandDepotMobilityService('uber', 0)"
   ]
  },
  {
   "cell_type": "markdown",
   "id": "99a75011",
   "metadata": {},
   "source": [
    "## Create the \"CAR\" layer"
   ]
  },
  {
   "cell_type": "code",
   "execution_count": null,
   "id": "9bdd3043",
   "metadata": {},
   "outputs": [],
   "source": [
    "from mnms.graph.layers import CarLayer\n",
    "\n",
    "car_layer = generate_layer_from_roads(roads, \"CAR\", mobility_services=[car_service,uber_service])"
   ]
  },
  {
   "cell_type": "markdown",
   "id": "2657d4e6",
   "metadata": {},
   "source": [
    "## Create an OD Layer"
   ]
  },
  {
   "cell_type": "code",
   "execution_count": null,
   "id": "9f3dab66",
   "metadata": {
    "scrolled": true
   },
   "outputs": [],
   "source": [
    "from mnms.generation.layers import generate_matching_origin_destination_layer\n",
    "\n",
    "odlayer = generate_matching_origin_destination_layer(roads)"
   ]
  },
  {
   "cell_type": "markdown",
   "id": "8765f1b1",
   "metadata": {},
   "source": [
    "## Create a Multi Layer Graph"
   ]
  },
  {
   "cell_type": "code",
   "execution_count": null,
   "id": "79809b3b",
   "metadata": {},
   "outputs": [],
   "source": [
    "from mnms.graph.layers import MultiLayerGraph\n",
    "\n",
    "# MultiLayerGraph(layers, odlayer, connection_distance)\n",
    "#mlgraph = MultiLayerGraph([car_layer, uber_service], odlayer, 1e-5)\n",
    "mlgraph = MultiLayerGraph([car_layer], odlayer, 1e-5)\n",
    "\n",
    "mlgraph.graph.nodes"
   ]
  },
  {
   "cell_type": "markdown",
   "id": "53efd5c3",
   "metadata": {},
   "source": [
    "## Generate a demand"
   ]
  },
  {
   "cell_type": "code",
   "execution_count": null,
   "id": "27935e40",
   "metadata": {},
   "outputs": [],
   "source": [
    "from mnms.generation.demand import generate_random_demand\n",
    "from mnms.tools.observer import CSVUserObserver\n",
    "\n",
    "demand = generate_random_demand(mlgraph,\n",
    "                                50,\n",
    "                                tstart=\"9:00:00\", \n",
    "                                tend=\"11:00:00\", \n",
    "                                min_cost=0.4)\n",
    "\n",
    "demand.add_user_observer(CSVUserObserver(\"user.csv\"))\n",
    "# demand.show_users()"
   ]
  },
  {
   "cell_type": "markdown",
   "id": "2b8edb02",
   "metadata": {},
   "source": [
    "## Load the demand in MnMS"
   ]
  },
  {
   "cell_type": "code",
   "execution_count": null,
   "id": "0a814a45",
   "metadata": {},
   "outputs": [],
   "source": [
    "from mnms.time import Time\n",
    "\n",
    "users = demand.get_next_departures(Time(\"09:00:00\"), Time(\"11:00:00\"))"
   ]
  },
  {
   "cell_type": "markdown",
   "id": "2d06cc71",
   "metadata": {},
   "source": [
    "## Create a decision model"
   ]
  },
  {
   "cell_type": "code",
   "execution_count": null,
   "id": "3c458b13",
   "metadata": {},
   "outputs": [],
   "source": [
    "from mnms.travel_decision import LogitDecisionModel\n",
    "\n",
    "travel_decision = LogitDecisionModel(mlgraph,\n",
    "                                     cost=\"travel_time\",\n",
    "                                     theta=0.01,\n",
    "                                     n_shortest_path=2, outfile=\"path.csv\")\n"
   ]
  },
  {
   "cell_type": "code",
   "execution_count": null,
   "id": "4343c270",
   "metadata": {},
   "outputs": [],
   "source": [
    "for user in users[:3]:\n",
    "    print(f\"{user}, path: {user.path}\")"
   ]
  },
  {
   "cell_type": "code",
   "execution_count": null,
   "id": "ebafe2e3",
   "metadata": {},
   "outputs": [],
   "source": [
    "for user in users:\n",
    "    travel_decision([user], user.departure_time)\n",
    "\n",
    "for user in users:\n",
    "    print(f\"{user}, services:\\n {user.path.mobility_services}\")"
   ]
  },
  {
   "cell_type": "markdown",
   "id": "ddb8143d",
   "metadata": {},
   "source": [
    "## Render the path"
   ]
  },
  {
   "cell_type": "code",
   "execution_count": null,
   "id": "2fb85755",
   "metadata": {},
   "outputs": [],
   "source": [
    "from mnms.tools.render import draw_path\n",
    "\n",
    "for user in users[:3]:\n",
    "    fig, ax = plt.subplots(figsize=(16, 9))\n",
    "    draw_roads(ax, mlgraph.roads, linkwidth=4, nodesize=10)\n",
    "    draw_path(ax, mlgraph, user.path)"
   ]
  },
  {
   "cell_type": "markdown",
   "id": "3031f4eb",
   "metadata": {},
   "source": [
    "## Create a MFD function"
   ]
  },
  {
   "cell_type": "code",
   "execution_count": null,
   "id": "388c4ef6",
   "metadata": {},
   "outputs": [],
   "source": [
    "def v_MFD(acc):\n",
    "    V = 0\n",
    "    N = acc[\"CAR\"]\n",
    "    \n",
    "    if N < 10:\n",
    "        V = 14\n",
    "    elif N < 20:\n",
    "        V = 12\n",
    "    elif N < 50:\n",
    "        V = 10\n",
    "    else:\n",
    "        V = 5\n",
    "        \n",
    "    V_BUS = 100\n",
    "    return {\"CAR\": V, \"BUS\": V_BUS}"
   ]
  },
  {
   "cell_type": "markdown",
   "id": "3155dac1",
   "metadata": {},
   "source": [
    "## Add a flow motor"
   ]
  },
  {
   "cell_type": "code",
   "execution_count": null,
   "id": "4d0d88c7",
   "metadata": {},
   "outputs": [],
   "source": [
    "from mnms.flow.MFD import Reservoir, MFDFlowMotor\n",
    "\n",
    "flow_motor = MFDFlowMotor()\n",
    "res = Reservoir(mlgraph.roads.zones[\"RES\"], [\"CAR\", \"BUS\"], v_MFD)\n",
    "flow_motor.add_reservoir(res)"
   ]
  },
  {
   "cell_type": "markdown",
   "id": "ea15101a",
   "metadata": {},
   "source": [
    "## Create a supervisor"
   ]
  },
  {
   "cell_type": "code",
   "execution_count": null,
   "id": "0084cc29",
   "metadata": {},
   "outputs": [],
   "source": [
    "from mnms.simulation import Supervisor\n",
    "\n",
    "supervisor = Supervisor(mlgraph,\n",
    "                        demand,\n",
    "                        flow_motor,\n",
    "                        travel_decision,\n",
    "                        outfile=\"travel_time_link.csv\")"
   ]
  },
  {
   "cell_type": "markdown",
   "id": "1ff678b5",
   "metadata": {},
   "source": [
    "## Run the simulation"
   ]
  },
  {
   "cell_type": "code",
   "execution_count": null,
   "id": "6ffdcc36",
   "metadata": {},
   "outputs": [],
   "source": [
    "from mnms.time import Time, Dt\n",
    "\n",
    "supervisor.run(Time(\"09:00:00\"),\n",
    "               Time(\"12:00:00\"),\n",
    "               Dt(minutes=1),\n",
    "               1)"
   ]
  },
  {
   "cell_type": "code",
   "execution_count": null,
   "id": "09916d02",
   "metadata": {},
   "outputs": [],
   "source": []
  },
  {
   "cell_type": "code",
   "execution_count": null,
   "id": "7a426058",
   "metadata": {},
   "outputs": [],
   "source": []
  }
 ],
 "metadata": {
  "kernelspec": {
   "display_name": "Python 3 (ipykernel)",
   "language": "python",
   "name": "python3"
  },
  "language_info": {
   "codemirror_mode": {
    "name": "ipython",
    "version": 3
   },
   "file_extension": ".py",
   "mimetype": "text/x-python",
   "name": "python",
   "nbconvert_exporter": "python",
   "pygments_lexer": "ipython3",
   "version": "3.10.6"
  }
 },
 "nbformat": 4,
 "nbformat_minor": 5
}
