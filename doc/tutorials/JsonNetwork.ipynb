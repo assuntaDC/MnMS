{
 "cells": [
  {
   "cell_type": "markdown",
   "id": "bef93ac6",
   "metadata": {},
   "source": [
    "# Json Tutorial"
   ]
  },
  {
   "cell_type": "markdown",
   "id": "baf2ba14",
   "metadata": {},
   "source": [
    "In this tutorial we will describe the structure of the Json file."
   ]
  },
  {
   "cell_type": "markdown",
   "id": "53a4a7ff",
   "metadata": {},
   "source": [
    "## Global structure"
   ]
  },
  {
   "cell_type": "markdown",
   "id": "0487bf1d",
   "metadata": {},
   "source": [
    "The Json network file contains two main parts:\n",
    "\n",
    "- The physical/geometrical part, ROADS, which contains a list of nodes NODES, a list of stops STOPS, a list of sections SECTIONS and a list of zones ZONES\n",
    "\n",
    "- The topological part, LAYERS, which contains the different mobility layers (CAR, BUS, TRAM, METRO etc). We can distinguish two different structures, one for the mobility service CAR and another one for the mobility service PT (Public Transportation) :\n",
    "    - The LAYER CAR\n",
    "    - The LAYER PT\n",
    "    \n",
    "- The general structure is presented below :"
   ]
  },
  {
   "cell_type": "code",
   "execution_count": null,
   "id": "8760f8f2",
   "metadata": {},
   "outputs": [],
   "source": [
    "{\n",
    "    \"ROADS\": {\n",
    "        \"NODES\": {},\n",
    "        \"STOPS\": {},\n",
    "        \"SECTIONS\": {},\n",
    "        \"ZONES\": {}\n",
    "    },\n",
    "    \n",
    "    \"LAYERS\": [\n",
    "        {},\n",
    "        {},\n",
    "        {},\n",
    "        {}\n",
    "    ]\n",
    "    \n",
    "}"
   ]
  },
  {
   "cell_type": "markdown",
   "id": "5f74ec48",
   "metadata": {},
   "source": [
    "## ROADS Structure"
   ]
  },
  {
   "cell_type": "markdown",
   "id": "eca7f2ab",
   "metadata": {},
   "source": [
    "### Structure of the list NODES\n",
    "\n",
    "- The list NODES contains the nodes defined by their ID, each node is associated to an array with two float values x and y representing the coordinates of the node."
   ]
  },
  {
   "cell_type": "code",
   "execution_count": null,
   "id": "29a9f14d",
   "metadata": {},
   "outputs": [],
   "source": [
    "{\n",
    "    \"NODES\": {\n",
    "        \"ID_Node1\" : [\n",
    "            848599.9577530001,\n",
    "            6520050.3492815\n",
    "        ],\n",
    "        \"ID_Node2\" : [\n",
    "            846023.7144265001,\n",
    "            6521597.059799167\n",
    "        ]\n",
    "    }\n",
    "}\n"
   ]
  },
  {
   "cell_type": "markdown",
   "id": "a4d7bc63",
   "metadata": {},
   "source": [
    "### Structure of the list STOPS\n",
    "\n",
    "- The list STOPS ccontains the stops defined by their ID, each stop contains:\n",
    "    - an attribute \"section\" where the value is the ID of the section.\n",
    "    - an attribute \"relative_position\" where the value is a float number.\n",
    "    - an attribute \"absolute_position\" associated to an array with two float values x and y representing the coordinates of the node."
   ]
  },
  {
   "cell_type": "code",
   "execution_count": null,
   "id": "643d740a",
   "metadata": {},
   "outputs": [],
   "source": [
    "{\n",
    "    \"STOPS\": {\n",
    "        \"ID_Stop1\": {\n",
    "            \"section\": \"ID_Section1\",\n",
    "            \"relative_position\": 0.7481000042569544,\n",
    "            \"absolute_position\": [\n",
    "                844322.625688825,\n",
    "                6520127.423836509\n",
    "            ]\n",
    "        },\n",
    "        \"ID_Stop2\": {\n",
    "            \"section\": \"ID_Section2\",\n",
    "            \"relative_position\": 0.9584591456971882,\n",
    "            \"absolute_position\": [\n",
    "                847268.9708551877,\n",
    "                6519569.056472435\n",
    "            ]\n",
    "        }\n",
    "    }\n",
    "}\n"
   ]
  },
  {
   "cell_type": "markdown",
   "id": "049b9c23",
   "metadata": {},
   "source": [
    "### Structure of the list SECTIONS\n",
    "\n",
    "- The list SECTIONS contains the sections defined by their ID, each section contains:\n",
    "    - an attribute \"upstream\" where the value is the ID of the upstream (start) node.\n",
    "    - an attribute \"downstream\" where the value is the ID of the downstream (end) node.\n",
    "    - an attribute \"length\" containing a float value representing the length of the section.\n",
    "    - an attribute \"zone\" where the value is the ID of the zone or reservoir (MFD Simulation)."
   ]
  },
  {
   "cell_type": "code",
   "execution_count": null,
   "id": "e3908005",
   "metadata": {},
   "outputs": [],
   "source": [
    "{\n",
    "    \"SECTIONS\": {\n",
    "        \"ID_Section1\": {\n",
    "            \"upstream\": \"ID_Node1\",\n",
    "            \"downstream\": \"ID_Node2\",\n",
    "            \"length\": 177.5312235704905,\n",
    "            \"zone\": \"RES\"\n",
    "        },\n",
    "        \"ID_Section2\": {\n",
    "            \"upstream\": \"ID_Node1\",\n",
    "            \"downstream\": \"ID_Node2\",\n",
    "            \"length\": 177.5312235704905,\n",
    "            \"zone\": \"RES\"\n",
    "        }\n",
    "    }\n",
    "}\n"
   ]
  },
  {
   "cell_type": "markdown",
   "id": "c65b8c28",
   "metadata": {},
   "source": [
    "### Structure of the list ZONES\n",
    "\n",
    "- The list ZONES contains the zones defined by their ID, each section contains:\n",
    "    - an attribute \"id\" where the value is the ID of the zone.\n",
    "    - an attribute \"sections\" associated to an array containing a list of links inside the zone.\n",
    "    - an attribute \"contour\" associated to an array containing a point list representing the contour of the zone."
   ]
  },
  {
   "cell_type": "code",
   "execution_count": null,
   "id": "c83a739c",
   "metadata": {},
   "outputs": [],
   "source": [
    "{\n",
    "    \"ZONES\": {\n",
    "        \"ID_Zone1\": {\n",
    "            \"id\": \"ID_Zone1\",\n",
    "            \"sections\": [\n",
    "                \"ID_Section1\",\n",
    "                \"ID_Section2\",\n",
    "                \"ID_Section3\"\n",
    "            ],\n",
    "            \"contour\": [\n",
    "                \"ID_Node1\",\n",
    "                \"ID_Node2\",\n",
    "                \"ID_Node3\"\n",
    "            ]\n",
    "        },\n",
    "        \"ID_Zone2\": {\n",
    "            \"id\": \"ID_Zone2\",\n",
    "            \"sections\": [\n",
    "                \"ID_Section4\",\n",
    "                \"ID_Section5\",\n",
    "                \"ID_Section6\"\n",
    "            ],\n",
    "            \"contour\": [\n",
    "                \"ID_Node4\",\n",
    "                \"ID_Node5\",\n",
    "                \"ID_Node6\"\n",
    "            ]\n",
    "        }\n",
    "    }\n",
    "}"
   ]
  },
  {
   "cell_type": "markdown",
   "id": "4eff53c0",
   "metadata": {},
   "source": [
    "## LAYERS Structure"
   ]
  },
  {
   "cell_type": "markdown",
   "id": "ebc61970",
   "metadata": {},
   "source": [
    "### Structure of the layer CAR\n",
    "\n",
    "- The Layer CAR contains the following informations:\n",
    "    - an attribute \"ID\" where the value here is \"CAR\"\n",
    "    - an attribute \"TYPE\" referring to the layer class in MnMS source\n",
    "        - here it is \"mnms.graph.layers.CarLayer\" for the CAR example\n",
    "    - an attribute \"VEH_TYPE\" referring to the vehicle class in MnMS source\n",
    "        - here it is \"mnms.vehicles.veh_type.Car\" for the CAR example\n",
    "    - an attribute \"DEFAULT_SPEED\" containing a float value representing the default speed of the mobility service\n",
    "    - an attribute \"NODES\" associated to an array\n",
    "    - an attribute \"LINKS associated to an array\n",
    "    - an attribute \"MAP_ROADDB\" assocated to a sub-structure presented below"
   ]
  },
  {
   "cell_type": "code",
   "execution_count": null,
   "id": "0b61bf7a",
   "metadata": {},
   "outputs": [],
   "source": [
    "{\n",
    "    \"ID\": \"CAR\",\n",
    "    \"TYPE\": \"mnms.graph.layers.CarLayer\",\n",
    "    \"VEH_TYPE\": \"mnms.vehicles.veh_type.Car\",\n",
    "    \"DEFAULT_SPEED\": 13.8,\n",
    "    \"SERVICES\": [],\n",
    "    \"NODES\": [],\n",
    "    \"LINKS\": [],\n",
    "    \"MAP_ROADDB\": {}\n",
    "}"
   ]
  },
  {
   "cell_type": "markdown",
   "id": "d94ce624",
   "metadata": {},
   "source": [
    "#### Structure SERVICES\n",
    "\n",
    "The SERVICES structure contains the declaration of the mobility services associated to the layer."
   ]
  },
  {
   "cell_type": "code",
   "execution_count": null,
   "id": "788eb67d",
   "metadata": {},
   "outputs": [],
   "source": [
    "{\n",
    "    \"SERVICES\": []\n",
    "}"
   ]
  },
  {
   "cell_type": "markdown",
   "id": "203244bf",
   "metadata": {},
   "source": [
    "#### Structure NODES\n",
    "\n",
    "The NODES structure in the CAR Layer contains for each Node: their \"ID\", two float values \"X\" and \"Y\" for their coordinates, an attribute \"LABEL\" and an array \"EXCLUDE_MOVEMENTS\" containing Nodes where the current Node cannot go to."
   ]
  },
  {
   "cell_type": "code",
   "execution_count": null,
   "id": "598c8151",
   "metadata": {},
   "outputs": [],
   "source": [
    "{\n",
    "    \"NODES\": [\n",
    "        {\n",
    "            \"ID\": \"ID_Node1\",\n",
    "            \"X\": ,\n",
    "            \"Y\": ,\n",
    "            \"LABEL\": \"CAR\"\n",
    "            \"EXCLUDE_MOVEMENTS\": {\n",
    "                \"ID_Node3\" [\n",
    "                    \"ID_Node3\"\n",
    "                ],\n",
    "                \"ID_Node4\" [\n",
    "                    \"ID_Node4\"\n",
    "                ]\n",
    "            }\n",
    "        },\n",
    "        {\n",
    "            \"ID\": \"ID_Node2\",\n",
    "            \"X\": ,\n",
    "            \"Y\": ,\n",
    "            \"LABEL\": \"CAR\"\n",
    "            \"EXCLUDE_MOVEMENTS\": {\n",
    "                \"ID_Node5\" [\n",
    "                    \"ID_Node5\"\n",
    "                ],\n",
    "                \"ID_Node6\" [\n",
    "                    \"ID_Node6\"\n",
    "                ]\n",
    "            }\n",
    "        }\n",
    "    ]  \n",
    "}"
   ]
  },
  {
   "cell_type": "markdown",
   "id": "2d163de8",
   "metadata": {},
   "source": [
    "#### Structure LINKS"
   ]
  },
  {
   "cell_type": "code",
   "execution_count": null,
   "id": "1d3a3f6f",
   "metadata": {},
   "outputs": [],
   "source": [
    "{\n",
    "    \"LINKS\": [\n",
    "        {\n",
    "            \"ID\": ,\n",
    "            \"UPSTREAM\": ,\n",
    "            \"DOWNSTREAM\": ,\n",
    "            \"LENGTH\": ,\n",
    "            \"COSTS\": {\n",
    "                \"length\":\n",
    "            },\n",
    "            \"LABEL\":\n",
    "        },\n",
    "        {\n",
    "            \"ID\": ,\n",
    "            \"UPSTREAM\": ,\n",
    "            \"DOWNSTREAM\": ,\n",
    "            \"LENGTH\": ,\n",
    "            \"COSTS\": {\n",
    "                \"length\":\n",
    "            },\n",
    "            \"LABEL\":\n",
    "        }\n",
    "    ]\n",
    "}"
   ]
  },
  {
   "cell_type": "markdown",
   "id": "7711a26b",
   "metadata": {},
   "source": [
    "#### Structure MAP_ROADDB"
   ]
  },
  {
   "cell_type": "code",
   "execution_count": null,
   "id": "e7671989",
   "metadata": {},
   "outputs": [],
   "source": [
    "{\n",
    "    \"NODES\": {\n",
    "        \"ID_Node1\": \"ID_Node1\",\n",
    "        \"ID_Node2\": \"ID_Node2\"\n",
    "    },\n",
    "    \"LINKS\": {\n",
    "        \"ID_Link1\": [\n",
    "            \"ID_Link1\"\n",
    "        ],\n",
    "        \"ID_Link2\": [\n",
    "            \"ID_Link2\"\n",
    "        ]\n",
    "    }\n",
    "}"
   ]
  },
  {
   "cell_type": "markdown",
   "id": "b4c5fdf4",
   "metadata": {},
   "source": [
    "### Structure of a public transportation layer\n",
    "\n",
    "A Layer PT contains the same data as the layer CAR but has no sub-structure  as NODES, LINKS or MAP_ROADDB but as instead a  sub-structure named LINES"
   ]
  },
  {
   "cell_type": "code",
   "execution_count": null,
   "id": "488e9458",
   "metadata": {},
   "outputs": [],
   "source": [
    "{\n",
    "    \"ID\": \"BUSLayer\",\n",
    "    \"TYPE\": \"mnms.graph.layers.BusLayer\",\n",
    "    \"VEH_TYPE\": \"mnms.vehicles.veh_type.Bus\",\n",
    "    \"DEFAULT_SPEED\": 13.8,\n",
    "    \"SERVICES\": [],\n",
    "    \"LINES\": [\n",
    "        {\n",
    "            \"ID\": ,\n",
    "            \"STOPS\": [],\n",
    "            \"SECTIONS\": [],\n",
    "            \"TIMETABLE\": []\n",
    "        },\n",
    "        {\n",
    "            \"ID\": ,\n",
    "            \"STOPS\": [],\n",
    "            \"SECTIONS\": [],\n",
    "            \"TIMETABLE\": []\n",
    "        }\n",
    "    ]\n",
    "}"
   ]
  },
  {
   "cell_type": "markdown",
   "id": "0ce384e3",
   "metadata": {},
   "source": [
    "#### Structure SERVICES\n",
    "\n",
    "The SERVICES structure contains the declaration of the mobility services associated to the layer."
   ]
  },
  {
   "cell_type": "code",
   "execution_count": null,
   "id": "dda09a01",
   "metadata": {},
   "outputs": [],
   "source": [
    "{\n",
    "    \"SERVICES\": []\n",
    "}"
   ]
  },
  {
   "cell_type": "markdown",
   "id": "f7bd0057",
   "metadata": {},
   "source": [
    "#### Structure LINES"
   ]
  },
  {
   "cell_type": "code",
   "execution_count": null,
   "id": "354e97c3",
   "metadata": {},
   "outputs": [],
   "source": [
    "{\n",
    "    {\n",
    "        \"ID\": \"ID_Line1\",\n",
    "        \"STOPS\": [\n",
    "            \"ID_Stop1\",\n",
    "            \"ID_Stop2\",\n",
    "            \"ID_Stop3\",\n",
    "            \"ID_Stop4\"\n",
    "        ],\n",
    "        \"SECTIONS\": [\n",
    "            [\n",
    "                \"ID_Section1\",\n",
    "                \"ID_Section2\"\n",
    "            ],\n",
    "            [\n",
    "                \"ID_Section3\",\n",
    "                \"ID_Section4\",\n",
    "                \"ID_Section5\"\n",
    "            ]\n",
    "        ],\n",
    "        \"TIMETABLE\": [\n",
    "            \"06:37:00.00\",\n",
    "            \"07:09:00.00\",\n",
    "            \"07:45:00.00\",\n",
    "            \"08:06:00.00\"\n",
    "        ]\n",
    "    },\n",
    "    {\n",
    "        \"ID\": \"ID_Line2\",\n",
    "        \"STOPS\": [\n",
    "            \"ID_Stop5\",\n",
    "            \"ID_Stop6\",\n",
    "            \"ID_Stop7\"\n",
    "        ],\n",
    "        \"SECTIONS\": [\n",
    "            [\n",
    "                \"ID_Section6\",\n",
    "                \"ID_Section7\",\n",
    "                \"ID_Section8\"\n",
    "            ],\n",
    "            [\n",
    "                \"ID_Section9\",\n",
    "                \"ID_Section10\"\n",
    "            ]\n",
    "        ],\n",
    "        \"TIMETABLE\": [\n",
    "            \"20:10:00.00\",\n",
    "            \"20:38:00.00\",\n",
    "            \"21:08:00.00\"\n",
    "        ]\n",
    "    }\n",
    "}"
   ]
  }
 ],
 "metadata": {
  "kernelspec": {
   "display_name": "Python 3 (ipykernel)",
   "language": "python",
   "name": "python3"
  },
  "language_info": {
   "codemirror_mode": {
    "name": "ipython",
    "version": 3
   },
   "file_extension": ".py",
   "mimetype": "text/x-python",
   "name": "python",
   "nbconvert_exporter": "python",
   "pygments_lexer": "ipython3",
   "version": "3.10.6"
  }
 },
 "nbformat": 4,
 "nbformat_minor": 5
}
